{
 "cells": [
  {
   "cell_type": "code",
   "execution_count": 16,
   "metadata": {},
   "outputs": [],
   "source": [
    "import pandas as pd\n",
    "import numpy as np\n",
    "import plotly.express as px"
   ]
  },
  {
   "cell_type": "code",
   "execution_count": 17,
   "metadata": {},
   "outputs": [],
   "source": [
    "%config Completer.use_jedi = False"
   ]
  },
  {
   "cell_type": "code",
   "execution_count": 18,
   "metadata": {},
   "outputs": [
    {
     "data": {
      "text/html": [
       "<div>\n",
       "<style scoped>\n",
       "    .dataframe tbody tr th:only-of-type {\n",
       "        vertical-align: middle;\n",
       "    }\n",
       "\n",
       "    .dataframe tbody tr th {\n",
       "        vertical-align: top;\n",
       "    }\n",
       "\n",
       "    .dataframe thead th {\n",
       "        text-align: right;\n",
       "    }\n",
       "</style>\n",
       "<table border=\"1\" class=\"dataframe\">\n",
       "  <thead>\n",
       "    <tr style=\"text-align: right;\">\n",
       "      <th></th>\n",
       "      <th>Date_of_report</th>\n",
       "      <th>Municipality_code</th>\n",
       "      <th>Municipality_name</th>\n",
       "      <th>Province</th>\n",
       "      <th>Total_reported</th>\n",
       "      <th>Hospital_admission</th>\n",
       "      <th>Deceased</th>\n",
       "    </tr>\n",
       "  </thead>\n",
       "  <tbody>\n",
       "    <tr>\n",
       "      <th>0</th>\n",
       "      <td>2020-03-13 10:00:00</td>\n",
       "      <td>GM0003</td>\n",
       "      <td>Appingedam</td>\n",
       "      <td>Groningen</td>\n",
       "      <td>0</td>\n",
       "      <td>0</td>\n",
       "      <td>0</td>\n",
       "    </tr>\n",
       "    <tr>\n",
       "      <th>1</th>\n",
       "      <td>2020-03-13 10:00:00</td>\n",
       "      <td>GM0010</td>\n",
       "      <td>Delfzijl</td>\n",
       "      <td>Groningen</td>\n",
       "      <td>0</td>\n",
       "      <td>0</td>\n",
       "      <td>0</td>\n",
       "    </tr>\n",
       "    <tr>\n",
       "      <th>2</th>\n",
       "      <td>2020-03-13 10:00:00</td>\n",
       "      <td>GM0014</td>\n",
       "      <td>Groningen</td>\n",
       "      <td>Groningen</td>\n",
       "      <td>3</td>\n",
       "      <td>0</td>\n",
       "      <td>0</td>\n",
       "    </tr>\n",
       "    <tr>\n",
       "      <th>3</th>\n",
       "      <td>2020-03-13 10:00:00</td>\n",
       "      <td>GM0024</td>\n",
       "      <td>Loppersum</td>\n",
       "      <td>Groningen</td>\n",
       "      <td>0</td>\n",
       "      <td>0</td>\n",
       "      <td>0</td>\n",
       "    </tr>\n",
       "    <tr>\n",
       "      <th>4</th>\n",
       "      <td>2020-03-13 10:00:00</td>\n",
       "      <td>GM0034</td>\n",
       "      <td>Almere</td>\n",
       "      <td>Flevoland</td>\n",
       "      <td>1</td>\n",
       "      <td>1</td>\n",
       "      <td>0</td>\n",
       "    </tr>\n",
       "    <tr>\n",
       "      <th>...</th>\n",
       "      <td>...</td>\n",
       "      <td>...</td>\n",
       "      <td>...</td>\n",
       "      <td>...</td>\n",
       "      <td>...</td>\n",
       "      <td>...</td>\n",
       "      <td>...</td>\n",
       "    </tr>\n",
       "    <tr>\n",
       "      <th>216747</th>\n",
       "      <td>2021-10-26 10:00:00</td>\n",
       "      <td>NaN</td>\n",
       "      <td>NaN</td>\n",
       "      <td>Noord-Holland</td>\n",
       "      <td>1620</td>\n",
       "      <td>24</td>\n",
       "      <td>2</td>\n",
       "    </tr>\n",
       "    <tr>\n",
       "      <th>216748</th>\n",
       "      <td>2021-10-26 10:00:00</td>\n",
       "      <td>NaN</td>\n",
       "      <td>NaN</td>\n",
       "      <td>Zuid-Holland</td>\n",
       "      <td>3395</td>\n",
       "      <td>65</td>\n",
       "      <td>15</td>\n",
       "    </tr>\n",
       "    <tr>\n",
       "      <th>216749</th>\n",
       "      <td>2021-10-26 10:00:00</td>\n",
       "      <td>NaN</td>\n",
       "      <td>NaN</td>\n",
       "      <td>Zeeland</td>\n",
       "      <td>108</td>\n",
       "      <td>5</td>\n",
       "      <td>1</td>\n",
       "    </tr>\n",
       "    <tr>\n",
       "      <th>216750</th>\n",
       "      <td>2021-10-26 10:00:00</td>\n",
       "      <td>NaN</td>\n",
       "      <td>NaN</td>\n",
       "      <td>Noord-Brabant</td>\n",
       "      <td>1635</td>\n",
       "      <td>38</td>\n",
       "      <td>8</td>\n",
       "    </tr>\n",
       "    <tr>\n",
       "      <th>216751</th>\n",
       "      <td>2021-10-26 10:00:00</td>\n",
       "      <td>NaN</td>\n",
       "      <td>NaN</td>\n",
       "      <td>Limburg</td>\n",
       "      <td>456</td>\n",
       "      <td>7</td>\n",
       "      <td>3</td>\n",
       "    </tr>\n",
       "  </tbody>\n",
       "</table>\n",
       "<p>216752 rows × 7 columns</p>\n",
       "</div>"
      ],
      "text/plain": [
       "             Date_of_report Municipality_code Municipality_name  \\\n",
       "0       2020-03-13 10:00:00            GM0003        Appingedam   \n",
       "1       2020-03-13 10:00:00            GM0010          Delfzijl   \n",
       "2       2020-03-13 10:00:00            GM0014         Groningen   \n",
       "3       2020-03-13 10:00:00            GM0024         Loppersum   \n",
       "4       2020-03-13 10:00:00            GM0034            Almere   \n",
       "...                     ...               ...               ...   \n",
       "216747  2021-10-26 10:00:00               NaN               NaN   \n",
       "216748  2021-10-26 10:00:00               NaN               NaN   \n",
       "216749  2021-10-26 10:00:00               NaN               NaN   \n",
       "216750  2021-10-26 10:00:00               NaN               NaN   \n",
       "216751  2021-10-26 10:00:00               NaN               NaN   \n",
       "\n",
       "             Province  Total_reported  Hospital_admission  Deceased  \n",
       "0           Groningen               0                   0         0  \n",
       "1           Groningen               0                   0         0  \n",
       "2           Groningen               3                   0         0  \n",
       "3           Groningen               0                   0         0  \n",
       "4           Flevoland               1                   1         0  \n",
       "...               ...             ...                 ...       ...  \n",
       "216747  Noord-Holland            1620                  24         2  \n",
       "216748   Zuid-Holland            3395                  65        15  \n",
       "216749        Zeeland             108                   5         1  \n",
       "216750  Noord-Brabant            1635                  38         8  \n",
       "216751        Limburg             456                   7         3  \n",
       "\n",
       "[216752 rows x 7 columns]"
      ]
     },
     "execution_count": 18,
     "metadata": {},
     "output_type": "execute_result"
    }
   ],
   "source": [
    "covid_data = pd.read_csv(\"./public/data/COVID-19_aantallen_gemeente_cumulatief.csv\", delimiter=\";\")\n",
    "covid_data"
   ]
  },
  {
   "cell_type": "markdown",
   "metadata": {},
   "source": [
    "# Clean and drop all NaNs"
   ]
  },
  {
   "cell_type": "code",
   "execution_count": 19,
   "metadata": {},
   "outputs": [
    {
     "data": {
      "text/html": [
       "<div>\n",
       "<style scoped>\n",
       "    .dataframe tbody tr th:only-of-type {\n",
       "        vertical-align: middle;\n",
       "    }\n",
       "\n",
       "    .dataframe tbody tr th {\n",
       "        vertical-align: top;\n",
       "    }\n",
       "\n",
       "    .dataframe thead th {\n",
       "        text-align: right;\n",
       "    }\n",
       "</style>\n",
       "<table border=\"1\" class=\"dataframe\">\n",
       "  <thead>\n",
       "    <tr style=\"text-align: right;\">\n",
       "      <th></th>\n",
       "      <th>Date_of_report</th>\n",
       "      <th>Municipality_code</th>\n",
       "      <th>Municipality_name</th>\n",
       "      <th>Province</th>\n",
       "      <th>Total_reported</th>\n",
       "      <th>Hospital_admission</th>\n",
       "      <th>Deceased</th>\n",
       "    </tr>\n",
       "  </thead>\n",
       "  <tbody>\n",
       "    <tr>\n",
       "      <th>0</th>\n",
       "      <td>2020-03-13 10:00:00</td>\n",
       "      <td>GM0003</td>\n",
       "      <td>Appingedam</td>\n",
       "      <td>Groningen</td>\n",
       "      <td>0</td>\n",
       "      <td>0</td>\n",
       "      <td>0</td>\n",
       "    </tr>\n",
       "    <tr>\n",
       "      <th>1</th>\n",
       "      <td>2020-03-13 10:00:00</td>\n",
       "      <td>GM0010</td>\n",
       "      <td>Delfzijl</td>\n",
       "      <td>Groningen</td>\n",
       "      <td>0</td>\n",
       "      <td>0</td>\n",
       "      <td>0</td>\n",
       "    </tr>\n",
       "    <tr>\n",
       "      <th>2</th>\n",
       "      <td>2020-03-13 10:00:00</td>\n",
       "      <td>GM0014</td>\n",
       "      <td>Groningen</td>\n",
       "      <td>Groningen</td>\n",
       "      <td>3</td>\n",
       "      <td>0</td>\n",
       "      <td>0</td>\n",
       "    </tr>\n",
       "    <tr>\n",
       "      <th>3</th>\n",
       "      <td>2020-03-13 10:00:00</td>\n",
       "      <td>GM0024</td>\n",
       "      <td>Loppersum</td>\n",
       "      <td>Groningen</td>\n",
       "      <td>0</td>\n",
       "      <td>0</td>\n",
       "      <td>0</td>\n",
       "    </tr>\n",
       "    <tr>\n",
       "      <th>4</th>\n",
       "      <td>2020-03-13 10:00:00</td>\n",
       "      <td>GM0034</td>\n",
       "      <td>Almere</td>\n",
       "      <td>Flevoland</td>\n",
       "      <td>1</td>\n",
       "      <td>1</td>\n",
       "      <td>0</td>\n",
       "    </tr>\n",
       "    <tr>\n",
       "      <th>...</th>\n",
       "      <td>...</td>\n",
       "      <td>...</td>\n",
       "      <td>...</td>\n",
       "      <td>...</td>\n",
       "      <td>...</td>\n",
       "      <td>...</td>\n",
       "      <td>...</td>\n",
       "    </tr>\n",
       "    <tr>\n",
       "      <th>216735</th>\n",
       "      <td>2021-10-26 10:00:00</td>\n",
       "      <td>GM1966</td>\n",
       "      <td>Het Hogeland</td>\n",
       "      <td>Groningen</td>\n",
       "      <td>4633</td>\n",
       "      <td>39</td>\n",
       "      <td>20</td>\n",
       "    </tr>\n",
       "    <tr>\n",
       "      <th>216736</th>\n",
       "      <td>2021-10-26 10:00:00</td>\n",
       "      <td>GM1969</td>\n",
       "      <td>Westerkwartier</td>\n",
       "      <td>Groningen</td>\n",
       "      <td>4477</td>\n",
       "      <td>39</td>\n",
       "      <td>26</td>\n",
       "    </tr>\n",
       "    <tr>\n",
       "      <th>216737</th>\n",
       "      <td>2021-10-26 10:00:00</td>\n",
       "      <td>GM1970</td>\n",
       "      <td>Noardeast-FryslÃ¢n</td>\n",
       "      <td>FryslÃ¢n</td>\n",
       "      <td>4693</td>\n",
       "      <td>63</td>\n",
       "      <td>40</td>\n",
       "    </tr>\n",
       "    <tr>\n",
       "      <th>216738</th>\n",
       "      <td>2021-10-26 10:00:00</td>\n",
       "      <td>GM1978</td>\n",
       "      <td>Molenlanden</td>\n",
       "      <td>Zuid-Holland</td>\n",
       "      <td>7014</td>\n",
       "      <td>57</td>\n",
       "      <td>36</td>\n",
       "    </tr>\n",
       "    <tr>\n",
       "      <th>216739</th>\n",
       "      <td>2021-10-26 10:00:00</td>\n",
       "      <td>GM1979</td>\n",
       "      <td>Eemsdelta</td>\n",
       "      <td>Groningen</td>\n",
       "      <td>3338</td>\n",
       "      <td>52</td>\n",
       "      <td>23</td>\n",
       "    </tr>\n",
       "  </tbody>\n",
       "</table>\n",
       "<p>209636 rows × 7 columns</p>\n",
       "</div>"
      ],
      "text/plain": [
       "             Date_of_report Municipality_code   Municipality_name  \\\n",
       "0       2020-03-13 10:00:00            GM0003          Appingedam   \n",
       "1       2020-03-13 10:00:00            GM0010            Delfzijl   \n",
       "2       2020-03-13 10:00:00            GM0014           Groningen   \n",
       "3       2020-03-13 10:00:00            GM0024           Loppersum   \n",
       "4       2020-03-13 10:00:00            GM0034              Almere   \n",
       "...                     ...               ...                 ...   \n",
       "216735  2021-10-26 10:00:00            GM1966        Het Hogeland   \n",
       "216736  2021-10-26 10:00:00            GM1969      Westerkwartier   \n",
       "216737  2021-10-26 10:00:00            GM1970  Noardeast-FryslÃ¢n   \n",
       "216738  2021-10-26 10:00:00            GM1978         Molenlanden   \n",
       "216739  2021-10-26 10:00:00            GM1979           Eemsdelta   \n",
       "\n",
       "            Province  Total_reported  Hospital_admission  Deceased  \n",
       "0          Groningen               0                   0         0  \n",
       "1          Groningen               0                   0         0  \n",
       "2          Groningen               3                   0         0  \n",
       "3          Groningen               0                   0         0  \n",
       "4          Flevoland               1                   1         0  \n",
       "...              ...             ...                 ...       ...  \n",
       "216735     Groningen            4633                  39        20  \n",
       "216736     Groningen            4477                  39        26  \n",
       "216737      FryslÃ¢n            4693                  63        40  \n",
       "216738  Zuid-Holland            7014                  57        36  \n",
       "216739     Groningen            3338                  52        23  \n",
       "\n",
       "[209636 rows x 7 columns]"
      ]
     },
     "execution_count": 19,
     "metadata": {},
     "output_type": "execute_result"
    }
   ],
   "source": [
    "covid_data_cleaned = covid_data.dropna().copy()\n",
    "covid_data_cleaned"
   ]
  },
  {
   "cell_type": "code",
   "execution_count": 20,
   "metadata": {},
   "outputs": [],
   "source": [
    "covid_data_cleaned.sort_values([\"Date_of_report\", \"Municipality_code\"], inplace=True)"
   ]
  },
  {
   "cell_type": "code",
   "execution_count": 21,
   "metadata": {},
   "outputs": [],
   "source": [
    "covid_data_cleaned[\"Daily_reported\"] = covid_data_cleaned.groupby(\"Municipality_code\")[\"Total_reported\"].transform(lambda x: x.diff())\n",
    "covid_data_cleaned.dropna(inplace=True)"
   ]
  },
  {
   "cell_type": "code",
   "execution_count": 22,
   "metadata": {},
   "outputs": [],
   "source": [
    "covid_data_cleaned[\"Daily_reported_moving_average\"] =\\\n",
    "    covid_data_cleaned.groupby(\"Municipality_code\")[\"Daily_reported\"].transform(\n",
    "        lambda x: x.rolling(\n",
    "            window=14,\n",
    "            min_periods=1,\n",
    "            center=True,\n",
    "            \n",
    "        ).mean()\n",
    ")\n",
    "covid_data_cleaned[\"Daily_reported_moving_average\"] = covid_data_cleaned[\"Daily_reported_moving_average\"].round(2)"
   ]
  },
  {
   "cell_type": "code",
   "execution_count": 23,
   "metadata": {},
   "outputs": [],
   "source": [
    "covid_data_cleaned[\"Date_of_report\"] = pd.to_datetime(covid_data_cleaned[\"Date_of_report\"])"
   ]
  },
  {
   "cell_type": "code",
   "execution_count": 24,
   "metadata": {},
   "outputs": [
    {
     "data": {
      "text/html": [
       "<div>\n",
       "<style scoped>\n",
       "    .dataframe tbody tr th:only-of-type {\n",
       "        vertical-align: middle;\n",
       "    }\n",
       "\n",
       "    .dataframe tbody tr th {\n",
       "        vertical-align: top;\n",
       "    }\n",
       "\n",
       "    .dataframe thead th {\n",
       "        text-align: right;\n",
       "    }\n",
       "</style>\n",
       "<table border=\"1\" class=\"dataframe\">\n",
       "  <thead>\n",
       "    <tr style=\"text-align: right;\">\n",
       "      <th></th>\n",
       "      <th>Date_of_report</th>\n",
       "      <th>Municipality_code</th>\n",
       "      <th>Municipality_name</th>\n",
       "      <th>Province</th>\n",
       "      <th>Total_reported</th>\n",
       "      <th>Hospital_admission</th>\n",
       "      <th>Deceased</th>\n",
       "      <th>Daily_reported</th>\n",
       "      <th>Daily_reported_moving_average</th>\n",
       "    </tr>\n",
       "  </thead>\n",
       "  <tbody>\n",
       "    <tr>\n",
       "      <th>579</th>\n",
       "      <td>2020-03-14 10:00:00</td>\n",
       "      <td>GM0772</td>\n",
       "      <td>Eindhoven</td>\n",
       "      <td>Noord-Brabant</td>\n",
       "      <td>13</td>\n",
       "      <td>0</td>\n",
       "      <td>0</td>\n",
       "      <td>1.0</td>\n",
       "      <td>4.43</td>\n",
       "    </tr>\n",
       "    <tr>\n",
       "      <th>946</th>\n",
       "      <td>2020-03-15 10:00:00</td>\n",
       "      <td>GM0772</td>\n",
       "      <td>Eindhoven</td>\n",
       "      <td>Noord-Brabant</td>\n",
       "      <td>21</td>\n",
       "      <td>0</td>\n",
       "      <td>0</td>\n",
       "      <td>8.0</td>\n",
       "      <td>3.00</td>\n",
       "    </tr>\n",
       "    <tr>\n",
       "      <th>1313</th>\n",
       "      <td>2020-03-16 10:00:00</td>\n",
       "      <td>GM0772</td>\n",
       "      <td>Eindhoven</td>\n",
       "      <td>Noord-Brabant</td>\n",
       "      <td>21</td>\n",
       "      <td>0</td>\n",
       "      <td>0</td>\n",
       "      <td>0.0</td>\n",
       "      <td>3.89</td>\n",
       "    </tr>\n",
       "    <tr>\n",
       "      <th>1680</th>\n",
       "      <td>2020-03-17 10:00:00</td>\n",
       "      <td>GM0772</td>\n",
       "      <td>Eindhoven</td>\n",
       "      <td>Noord-Brabant</td>\n",
       "      <td>22</td>\n",
       "      <td>0</td>\n",
       "      <td>0</td>\n",
       "      <td>1.0</td>\n",
       "      <td>4.50</td>\n",
       "    </tr>\n",
       "    <tr>\n",
       "      <th>2047</th>\n",
       "      <td>2020-03-18 10:00:00</td>\n",
       "      <td>GM0772</td>\n",
       "      <td>Eindhoven</td>\n",
       "      <td>Noord-Brabant</td>\n",
       "      <td>23</td>\n",
       "      <td>1</td>\n",
       "      <td>0</td>\n",
       "      <td>1.0</td>\n",
       "      <td>5.27</td>\n",
       "    </tr>\n",
       "    <tr>\n",
       "      <th>...</th>\n",
       "      <td>...</td>\n",
       "      <td>...</td>\n",
       "      <td>...</td>\n",
       "      <td>...</td>\n",
       "      <td>...</td>\n",
       "      <td>...</td>\n",
       "      <td>...</td>\n",
       "      <td>...</td>\n",
       "      <td>...</td>\n",
       "    </tr>\n",
       "    <tr>\n",
       "      <th>215141</th>\n",
       "      <td>2021-10-22 10:00:00</td>\n",
       "      <td>GM0772</td>\n",
       "      <td>Eindhoven</td>\n",
       "      <td>Noord-Brabant</td>\n",
       "      <td>27854</td>\n",
       "      <td>471</td>\n",
       "      <td>361</td>\n",
       "      <td>15.0</td>\n",
       "      <td>36.42</td>\n",
       "    </tr>\n",
       "    <tr>\n",
       "      <th>215505</th>\n",
       "      <td>2021-10-23 10:00:00</td>\n",
       "      <td>GM0772</td>\n",
       "      <td>Eindhoven</td>\n",
       "      <td>Noord-Brabant</td>\n",
       "      <td>27918</td>\n",
       "      <td>471</td>\n",
       "      <td>361</td>\n",
       "      <td>64.0</td>\n",
       "      <td>38.45</td>\n",
       "    </tr>\n",
       "    <tr>\n",
       "      <th>215869</th>\n",
       "      <td>2021-10-24 10:00:00</td>\n",
       "      <td>GM0772</td>\n",
       "      <td>Eindhoven</td>\n",
       "      <td>Noord-Brabant</td>\n",
       "      <td>27955</td>\n",
       "      <td>471</td>\n",
       "      <td>361</td>\n",
       "      <td>37.0</td>\n",
       "      <td>39.70</td>\n",
       "    </tr>\n",
       "    <tr>\n",
       "      <th>216233</th>\n",
       "      <td>2021-10-25 10:00:00</td>\n",
       "      <td>GM0772</td>\n",
       "      <td>Eindhoven</td>\n",
       "      <td>Noord-Brabant</td>\n",
       "      <td>28026</td>\n",
       "      <td>471</td>\n",
       "      <td>361</td>\n",
       "      <td>71.0</td>\n",
       "      <td>40.22</td>\n",
       "    </tr>\n",
       "    <tr>\n",
       "      <th>216597</th>\n",
       "      <td>2021-10-26 10:00:00</td>\n",
       "      <td>GM0772</td>\n",
       "      <td>Eindhoven</td>\n",
       "      <td>Noord-Brabant</td>\n",
       "      <td>28063</td>\n",
       "      <td>471</td>\n",
       "      <td>361</td>\n",
       "      <td>37.0</td>\n",
       "      <td>42.25</td>\n",
       "    </tr>\n",
       "  </tbody>\n",
       "</table>\n",
       "<p>592 rows × 9 columns</p>\n",
       "</div>"
      ],
      "text/plain": [
       "            Date_of_report Municipality_code Municipality_name       Province  \\\n",
       "579    2020-03-14 10:00:00            GM0772         Eindhoven  Noord-Brabant   \n",
       "946    2020-03-15 10:00:00            GM0772         Eindhoven  Noord-Brabant   \n",
       "1313   2020-03-16 10:00:00            GM0772         Eindhoven  Noord-Brabant   \n",
       "1680   2020-03-17 10:00:00            GM0772         Eindhoven  Noord-Brabant   \n",
       "2047   2020-03-18 10:00:00            GM0772         Eindhoven  Noord-Brabant   \n",
       "...                    ...               ...               ...            ...   \n",
       "215141 2021-10-22 10:00:00            GM0772         Eindhoven  Noord-Brabant   \n",
       "215505 2021-10-23 10:00:00            GM0772         Eindhoven  Noord-Brabant   \n",
       "215869 2021-10-24 10:00:00            GM0772         Eindhoven  Noord-Brabant   \n",
       "216233 2021-10-25 10:00:00            GM0772         Eindhoven  Noord-Brabant   \n",
       "216597 2021-10-26 10:00:00            GM0772         Eindhoven  Noord-Brabant   \n",
       "\n",
       "        Total_reported  Hospital_admission  Deceased  Daily_reported  \\\n",
       "579                 13                   0         0             1.0   \n",
       "946                 21                   0         0             8.0   \n",
       "1313                21                   0         0             0.0   \n",
       "1680                22                   0         0             1.0   \n",
       "2047                23                   1         0             1.0   \n",
       "...                ...                 ...       ...             ...   \n",
       "215141           27854                 471       361            15.0   \n",
       "215505           27918                 471       361            64.0   \n",
       "215869           27955                 471       361            37.0   \n",
       "216233           28026                 471       361            71.0   \n",
       "216597           28063                 471       361            37.0   \n",
       "\n",
       "        Daily_reported_moving_average  \n",
       "579                              4.43  \n",
       "946                              3.00  \n",
       "1313                             3.89  \n",
       "1680                             4.50  \n",
       "2047                             5.27  \n",
       "...                               ...  \n",
       "215141                          36.42  \n",
       "215505                          38.45  \n",
       "215869                          39.70  \n",
       "216233                          40.22  \n",
       "216597                          42.25  \n",
       "\n",
       "[592 rows x 9 columns]"
      ]
     },
     "execution_count": 24,
     "metadata": {},
     "output_type": "execute_result"
    }
   ],
   "source": [
    "covid_data_cleaned[covid_data_cleaned[\"Municipality_name\"] == \"Eindhoven\"]"
   ]
  },
  {
   "cell_type": "code",
   "execution_count": null,
   "metadata": {},
   "outputs": [],
   "source": []
  },
  {
   "cell_type": "code",
   "execution_count": 25,
   "metadata": {},
   "outputs": [
    {
     "data": {
      "text/html": [
       "<div>\n",
       "<style scoped>\n",
       "    .dataframe tbody tr th:only-of-type {\n",
       "        vertical-align: middle;\n",
       "    }\n",
       "\n",
       "    .dataframe tbody tr th {\n",
       "        vertical-align: top;\n",
       "    }\n",
       "\n",
       "    .dataframe thead th {\n",
       "        text-align: right;\n",
       "    }\n",
       "</style>\n",
       "<table border=\"1\" class=\"dataframe\">\n",
       "  <thead>\n",
       "    <tr style=\"text-align: right;\">\n",
       "      <th></th>\n",
       "      <th>Date_of_report</th>\n",
       "      <th>Municipality_code</th>\n",
       "      <th>Municipality_name</th>\n",
       "      <th>Province</th>\n",
       "      <th>Total_reported</th>\n",
       "      <th>Hospital_admission</th>\n",
       "      <th>Deceased</th>\n",
       "      <th>Daily_reported</th>\n",
       "      <th>Daily_reported_moving_average</th>\n",
       "    </tr>\n",
       "  </thead>\n",
       "  <tbody>\n",
       "    <tr>\n",
       "      <th>579</th>\n",
       "      <td>2020-03-14 10:00:00</td>\n",
       "      <td>GM0772</td>\n",
       "      <td>Eindhoven</td>\n",
       "      <td>Noord-Brabant</td>\n",
       "      <td>13</td>\n",
       "      <td>0</td>\n",
       "      <td>0</td>\n",
       "      <td>1.0</td>\n",
       "      <td>4.43</td>\n",
       "    </tr>\n",
       "    <tr>\n",
       "      <th>946</th>\n",
       "      <td>2020-03-15 10:00:00</td>\n",
       "      <td>GM0772</td>\n",
       "      <td>Eindhoven</td>\n",
       "      <td>Noord-Brabant</td>\n",
       "      <td>21</td>\n",
       "      <td>0</td>\n",
       "      <td>0</td>\n",
       "      <td>8.0</td>\n",
       "      <td>3.00</td>\n",
       "    </tr>\n",
       "    <tr>\n",
       "      <th>1313</th>\n",
       "      <td>2020-03-16 10:00:00</td>\n",
       "      <td>GM0772</td>\n",
       "      <td>Eindhoven</td>\n",
       "      <td>Noord-Brabant</td>\n",
       "      <td>21</td>\n",
       "      <td>0</td>\n",
       "      <td>0</td>\n",
       "      <td>0.0</td>\n",
       "      <td>3.89</td>\n",
       "    </tr>\n",
       "    <tr>\n",
       "      <th>1680</th>\n",
       "      <td>2020-03-17 10:00:00</td>\n",
       "      <td>GM0772</td>\n",
       "      <td>Eindhoven</td>\n",
       "      <td>Noord-Brabant</td>\n",
       "      <td>22</td>\n",
       "      <td>0</td>\n",
       "      <td>0</td>\n",
       "      <td>1.0</td>\n",
       "      <td>4.50</td>\n",
       "    </tr>\n",
       "    <tr>\n",
       "      <th>2047</th>\n",
       "      <td>2020-03-18 10:00:00</td>\n",
       "      <td>GM0772</td>\n",
       "      <td>Eindhoven</td>\n",
       "      <td>Noord-Brabant</td>\n",
       "      <td>23</td>\n",
       "      <td>1</td>\n",
       "      <td>0</td>\n",
       "      <td>1.0</td>\n",
       "      <td>5.27</td>\n",
       "    </tr>\n",
       "  </tbody>\n",
       "</table>\n",
       "</div>"
      ],
      "text/plain": [
       "          Date_of_report Municipality_code Municipality_name       Province  \\\n",
       "579  2020-03-14 10:00:00            GM0772         Eindhoven  Noord-Brabant   \n",
       "946  2020-03-15 10:00:00            GM0772         Eindhoven  Noord-Brabant   \n",
       "1313 2020-03-16 10:00:00            GM0772         Eindhoven  Noord-Brabant   \n",
       "1680 2020-03-17 10:00:00            GM0772         Eindhoven  Noord-Brabant   \n",
       "2047 2020-03-18 10:00:00            GM0772         Eindhoven  Noord-Brabant   \n",
       "\n",
       "      Total_reported  Hospital_admission  Deceased  Daily_reported  \\\n",
       "579               13                   0         0             1.0   \n",
       "946               21                   0         0             8.0   \n",
       "1313              21                   0         0             0.0   \n",
       "1680              22                   0         0             1.0   \n",
       "2047              23                   1         0             1.0   \n",
       "\n",
       "      Daily_reported_moving_average  \n",
       "579                            4.43  \n",
       "946                            3.00  \n",
       "1313                           3.89  \n",
       "1680                           4.50  \n",
       "2047                           5.27  "
      ]
     },
     "execution_count": 25,
     "metadata": {},
     "output_type": "execute_result"
    }
   ],
   "source": [
    "df_eindhoven = covid_data_cleaned[covid_data_cleaned[\"Municipality_name\"] == \"Eindhoven\"]\n",
    "df_eindhoven.head()"
   ]
  },
  {
   "cell_type": "code",
   "execution_count": 26,
   "metadata": {},
   "outputs": [
    {
     "data": {
      "application/vnd.plotly.v1+json": {
       "config": {
        "plotlyServerURL": "https://plot.ly"
       },
       "data": [
        {
         "hovertemplate": "Date_of_report=%{x}<br>Daily_reported_moving_average=%{y}<extra></extra>",
         "legendgroup": "",
         "line": {
          "color": "#636efa",
          "dash": "solid"
         },
         "mode": "lines",
         "name": "",
         "orientation": "v",
         "showlegend": false,
         "type": "scatter",
         "x": [
          "2020-03-14T10:00:00",
          "2020-03-15T10:00:00",
          "2020-03-16T10:00:00",
          "2020-03-17T10:00:00",
          "2020-03-18T10:00:00",
          "2020-03-19T10:00:00",
          "2020-03-20T10:00:00",
          "2020-03-21T10:00:00",
          "2020-03-22T10:00:00",
          "2020-03-23T10:00:00",
          "2020-03-24T10:00:00",
          "2020-03-25T10:00:00",
          "2020-03-26T10:00:00",
          "2020-03-27T10:00:00",
          "2020-03-28T10:00:00",
          "2020-03-29T10:00:00",
          "2020-03-30T10:00:00",
          "2020-03-31T10:00:00",
          "2020-04-01T10:00:00",
          "2020-04-02T10:00:00",
          "2020-04-03T10:00:00",
          "2020-04-04T10:00:00",
          "2020-04-05T10:00:00",
          "2020-04-06T10:00:00",
          "2020-04-07T10:00:00",
          "2020-04-08T10:00:00",
          "2020-04-09T10:00:00",
          "2020-04-10T10:00:00",
          "2020-04-11T10:00:00",
          "2020-04-12T10:00:00",
          "2020-04-13T10:00:00",
          "2020-04-14T10:00:00",
          "2020-04-15T10:00:00",
          "2020-04-16T10:00:00",
          "2020-04-17T10:00:00",
          "2020-04-18T10:00:00",
          "2020-04-19T10:00:00",
          "2020-04-20T10:00:00",
          "2020-04-21T10:00:00",
          "2020-04-22T10:00:00",
          "2020-04-23T10:00:00",
          "2020-04-24T10:00:00",
          "2020-04-25T10:00:00",
          "2020-04-26T10:00:00",
          "2020-04-27T10:00:00",
          "2020-04-28T10:00:00",
          "2020-04-29T10:00:00",
          "2020-04-30T10:00:00",
          "2020-05-01T10:00:00",
          "2020-05-02T10:00:00",
          "2020-05-03T10:00:00",
          "2020-05-04T10:00:00",
          "2020-05-05T10:00:00",
          "2020-05-06T10:00:00",
          "2020-05-07T10:00:00",
          "2020-05-08T10:00:00",
          "2020-05-09T10:00:00",
          "2020-05-10T10:00:00",
          "2020-05-11T10:00:00",
          "2020-05-12T10:00:00",
          "2020-05-13T10:00:00",
          "2020-05-14T10:00:00",
          "2020-05-15T10:00:00",
          "2020-05-16T10:00:00",
          "2020-05-17T10:00:00",
          "2020-05-18T10:00:00",
          "2020-05-19T10:00:00",
          "2020-05-20T10:00:00",
          "2020-05-21T10:00:00",
          "2020-05-22T10:00:00",
          "2020-05-23T10:00:00",
          "2020-05-24T10:00:00",
          "2020-05-25T10:00:00",
          "2020-05-26T10:00:00",
          "2020-05-27T10:00:00",
          "2020-05-28T10:00:00",
          "2020-05-29T10:00:00",
          "2020-05-30T10:00:00",
          "2020-05-31T10:00:00",
          "2020-06-01T10:00:00",
          "2020-06-02T10:00:00",
          "2020-06-03T10:00:00",
          "2020-06-04T10:00:00",
          "2020-06-05T10:00:00",
          "2020-06-06T10:00:00",
          "2020-06-07T10:00:00",
          "2020-06-08T10:00:00",
          "2020-06-09T10:00:00",
          "2020-06-10T10:00:00",
          "2020-06-11T10:00:00",
          "2020-06-12T10:00:00",
          "2020-06-13T10:00:00",
          "2020-06-14T10:00:00",
          "2020-06-15T10:00:00",
          "2020-06-16T10:00:00",
          "2020-06-17T10:00:00",
          "2020-06-18T10:00:00",
          "2020-06-19T10:00:00",
          "2020-06-20T10:00:00",
          "2020-06-21T10:00:00",
          "2020-06-22T10:00:00",
          "2020-06-23T10:00:00",
          "2020-06-24T10:00:00",
          "2020-06-25T10:00:00",
          "2020-06-26T10:00:00",
          "2020-06-27T10:00:00",
          "2020-06-28T10:00:00",
          "2020-06-29T10:00:00",
          "2020-06-30T10:00:00",
          "2020-07-01T10:00:00",
          "2020-07-02T10:00:00",
          "2020-07-03T10:00:00",
          "2020-07-04T10:00:00",
          "2020-07-05T10:00:00",
          "2020-07-06T10:00:00",
          "2020-07-07T10:00:00",
          "2020-07-08T10:00:00",
          "2020-07-09T10:00:00",
          "2020-07-10T10:00:00",
          "2020-07-11T10:00:00",
          "2020-07-12T10:00:00",
          "2020-07-13T10:00:00",
          "2020-07-14T10:00:00",
          "2020-07-15T10:00:00",
          "2020-07-16T10:00:00",
          "2020-07-17T10:00:00",
          "2020-07-18T10:00:00",
          "2020-07-19T10:00:00",
          "2020-07-20T10:00:00",
          "2020-07-21T10:00:00",
          "2020-07-22T10:00:00",
          "2020-07-23T10:00:00",
          "2020-07-24T10:00:00",
          "2020-07-25T10:00:00",
          "2020-07-26T10:00:00",
          "2020-07-27T10:00:00",
          "2020-07-28T10:00:00",
          "2020-07-29T10:00:00",
          "2020-07-30T10:00:00",
          "2020-07-31T10:00:00",
          "2020-08-01T10:00:00",
          "2020-08-02T10:00:00",
          "2020-08-03T10:00:00",
          "2020-08-04T10:00:00",
          "2020-08-05T10:00:00",
          "2020-08-06T10:00:00",
          "2020-08-07T10:00:00",
          "2020-08-08T10:00:00",
          "2020-08-09T10:00:00",
          "2020-08-10T10:00:00",
          "2020-08-11T10:00:00",
          "2020-08-12T10:00:00",
          "2020-08-13T10:00:00",
          "2020-08-14T10:00:00",
          "2020-08-15T10:00:00",
          "2020-08-16T10:00:00",
          "2020-08-17T10:00:00",
          "2020-08-18T10:00:00",
          "2020-08-19T10:00:00",
          "2020-08-20T10:00:00",
          "2020-08-21T10:00:00",
          "2020-08-22T10:00:00",
          "2020-08-23T10:00:00",
          "2020-08-24T10:00:00",
          "2020-08-25T10:00:00",
          "2020-08-26T10:00:00",
          "2020-08-27T10:00:00",
          "2020-08-28T10:00:00",
          "2020-08-29T10:00:00",
          "2020-08-30T10:00:00",
          "2020-08-31T10:00:00",
          "2020-09-01T10:00:00",
          "2020-09-02T10:00:00",
          "2020-09-03T10:00:00",
          "2020-09-04T10:00:00",
          "2020-09-05T10:00:00",
          "2020-09-06T10:00:00",
          "2020-09-07T10:00:00",
          "2020-09-08T10:00:00",
          "2020-09-09T10:00:00",
          "2020-09-10T10:00:00",
          "2020-09-11T10:00:00",
          "2020-09-12T10:00:00",
          "2020-09-13T10:00:00",
          "2020-09-14T10:00:00",
          "2020-09-15T10:00:00",
          "2020-09-16T10:00:00",
          "2020-09-17T10:00:00",
          "2020-09-18T10:00:00",
          "2020-09-19T10:00:00",
          "2020-09-20T10:00:00",
          "2020-09-21T10:00:00",
          "2020-09-22T10:00:00",
          "2020-09-23T10:00:00",
          "2020-09-24T10:00:00",
          "2020-09-25T10:00:00",
          "2020-09-26T10:00:00",
          "2020-09-27T10:00:00",
          "2020-09-28T10:00:00",
          "2020-09-29T10:00:00",
          "2020-09-30T10:00:00",
          "2020-10-01T10:00:00",
          "2020-10-02T10:00:00",
          "2020-10-03T10:00:00",
          "2020-10-04T10:00:00",
          "2020-10-05T10:00:00",
          "2020-10-06T10:00:00",
          "2020-10-07T10:00:00",
          "2020-10-08T10:00:00",
          "2020-10-09T10:00:00",
          "2020-10-10T10:00:00",
          "2020-10-11T10:00:00",
          "2020-10-12T10:00:00",
          "2020-10-13T10:00:00",
          "2020-10-14T10:00:00",
          "2020-10-15T10:00:00",
          "2020-10-16T10:00:00",
          "2020-10-17T10:00:00",
          "2020-10-18T10:00:00",
          "2020-10-19T10:00:00",
          "2020-10-20T10:00:00",
          "2020-10-21T10:00:00",
          "2020-10-22T10:00:00",
          "2020-10-23T10:00:00",
          "2020-10-24T10:00:00",
          "2020-10-25T10:00:00",
          "2020-10-26T10:00:00",
          "2020-10-27T10:00:00",
          "2020-10-28T10:00:00",
          "2020-10-29T10:00:00",
          "2020-10-30T10:00:00",
          "2020-10-31T10:00:00",
          "2020-11-01T10:00:00",
          "2020-11-02T10:00:00",
          "2020-11-03T10:00:00",
          "2020-11-04T10:00:00",
          "2020-11-05T10:00:00",
          "2020-11-06T10:00:00",
          "2020-11-07T10:00:00",
          "2020-11-08T10:00:00",
          "2020-11-09T10:00:00",
          "2020-11-10T10:00:00",
          "2020-11-11T10:00:00",
          "2020-11-12T10:00:00",
          "2020-11-13T10:00:00",
          "2020-11-14T10:00:00",
          "2020-11-15T10:00:00",
          "2020-11-16T10:00:00",
          "2020-11-17T10:00:00",
          "2020-11-18T10:00:00",
          "2020-11-19T10:00:00",
          "2020-11-20T10:00:00",
          "2020-11-21T10:00:00",
          "2020-11-22T10:00:00",
          "2020-11-23T10:00:00",
          "2020-11-24T10:00:00",
          "2020-11-25T10:00:00",
          "2020-11-26T10:00:00",
          "2020-11-27T10:00:00",
          "2020-11-28T10:00:00",
          "2020-11-29T10:00:00",
          "2020-11-30T10:00:00",
          "2020-12-01T10:00:00",
          "2020-12-02T10:00:00",
          "2020-12-03T10:00:00",
          "2020-12-04T10:00:00",
          "2020-12-05T10:00:00",
          "2020-12-06T10:00:00",
          "2020-12-07T10:00:00",
          "2020-12-08T10:00:00",
          "2020-12-09T10:00:00",
          "2020-12-10T10:00:00",
          "2020-12-11T10:00:00",
          "2020-12-12T10:00:00",
          "2020-12-13T10:00:00",
          "2020-12-14T10:00:00",
          "2020-12-15T10:00:00",
          "2020-12-16T10:00:00",
          "2020-12-17T10:00:00",
          "2020-12-18T10:00:00",
          "2020-12-19T10:00:00",
          "2020-12-20T10:00:00",
          "2020-12-21T10:00:00",
          "2020-12-22T10:00:00",
          "2020-12-23T10:00:00",
          "2020-12-24T10:00:00",
          "2020-12-25T10:00:00",
          "2020-12-26T10:00:00",
          "2020-12-27T10:00:00",
          "2020-12-28T10:00:00",
          "2020-12-29T10:00:00",
          "2020-12-30T10:00:00",
          "2020-12-31T10:00:00",
          "2021-01-01T10:00:00",
          "2021-01-02T10:00:00",
          "2021-01-03T10:00:00",
          "2021-01-04T10:00:00",
          "2021-01-05T10:00:00",
          "2021-01-06T10:00:00",
          "2021-01-07T10:00:00",
          "2021-01-08T10:00:00",
          "2021-01-09T10:00:00",
          "2021-01-10T10:00:00",
          "2021-01-11T10:00:00",
          "2021-01-12T10:00:00",
          "2021-01-13T10:00:00",
          "2021-01-14T10:00:00",
          "2021-01-15T10:00:00",
          "2021-01-16T10:00:00",
          "2021-01-17T10:00:00",
          "2021-01-18T10:00:00",
          "2021-01-19T10:00:00",
          "2021-01-20T10:00:00",
          "2021-01-21T10:00:00",
          "2021-01-22T10:00:00",
          "2021-01-23T10:00:00",
          "2021-01-24T10:00:00",
          "2021-01-25T10:00:00",
          "2021-01-26T10:00:00",
          "2021-01-27T10:00:00",
          "2021-01-28T10:00:00",
          "2021-01-29T10:00:00",
          "2021-01-30T10:00:00",
          "2021-01-31T10:00:00",
          "2021-02-01T10:00:00",
          "2021-02-02T10:00:00",
          "2021-02-03T10:00:00",
          "2021-02-04T10:00:00",
          "2021-02-05T10:00:00",
          "2021-02-06T10:00:00",
          "2021-02-07T10:00:00",
          "2021-02-08T10:00:00",
          "2021-02-09T10:00:00",
          "2021-02-10T10:00:00",
          "2021-02-11T10:00:00",
          "2021-02-12T10:00:00",
          "2021-02-13T10:00:00",
          "2021-02-14T10:00:00",
          "2021-02-15T10:00:00",
          "2021-02-16T10:00:00",
          "2021-02-17T10:00:00",
          "2021-02-18T10:00:00",
          "2021-02-19T10:00:00",
          "2021-02-20T10:00:00",
          "2021-02-21T10:00:00",
          "2021-02-22T10:00:00",
          "2021-02-23T10:00:00",
          "2021-02-24T10:00:00",
          "2021-02-25T10:00:00",
          "2021-02-26T10:00:00",
          "2021-02-27T10:00:00",
          "2021-02-28T10:00:00",
          "2021-03-01T10:00:00",
          "2021-03-02T10:00:00",
          "2021-03-03T10:00:00",
          "2021-03-04T10:00:00",
          "2021-03-05T10:00:00",
          "2021-03-06T10:00:00",
          "2021-03-07T10:00:00",
          "2021-03-08T10:00:00",
          "2021-03-09T10:00:00",
          "2021-03-10T10:00:00",
          "2021-03-11T10:00:00",
          "2021-03-12T10:00:00",
          "2021-03-13T10:00:00",
          "2021-03-14T10:00:00",
          "2021-03-15T10:00:00",
          "2021-03-16T10:00:00",
          "2021-03-17T10:00:00",
          "2021-03-18T10:00:00",
          "2021-03-19T10:00:00",
          "2021-03-20T10:00:00",
          "2021-03-21T10:00:00",
          "2021-03-22T10:00:00",
          "2021-03-23T10:00:00",
          "2021-03-24T10:00:00",
          "2021-03-25T10:00:00",
          "2021-03-26T10:00:00",
          "2021-03-27T10:00:00",
          "2021-03-28T10:00:00",
          "2021-03-29T10:00:00",
          "2021-03-30T10:00:00",
          "2021-03-31T10:00:00",
          "2021-04-01T10:00:00",
          "2021-04-02T10:00:00",
          "2021-04-03T10:00:00",
          "2021-04-04T10:00:00",
          "2021-04-05T10:00:00",
          "2021-04-06T10:00:00",
          "2021-04-07T10:00:00",
          "2021-04-08T10:00:00",
          "2021-04-09T10:00:00",
          "2021-04-10T10:00:00",
          "2021-04-11T10:00:00",
          "2021-04-12T10:00:00",
          "2021-04-13T10:00:00",
          "2021-04-14T10:00:00",
          "2021-04-15T10:00:00",
          "2021-04-16T10:00:00",
          "2021-04-17T10:00:00",
          "2021-04-18T10:00:00",
          "2021-04-19T10:00:00",
          "2021-04-20T10:00:00",
          "2021-04-21T10:00:00",
          "2021-04-22T10:00:00",
          "2021-04-23T10:00:00",
          "2021-04-24T10:00:00",
          "2021-04-25T10:00:00",
          "2021-04-26T10:00:00",
          "2021-04-27T10:00:00",
          "2021-04-28T10:00:00",
          "2021-04-29T10:00:00",
          "2021-04-30T10:00:00",
          "2021-05-01T10:00:00",
          "2021-05-02T10:00:00",
          "2021-05-03T10:00:00",
          "2021-05-04T10:00:00",
          "2021-05-05T10:00:00",
          "2021-05-06T10:00:00",
          "2021-05-07T10:00:00",
          "2021-05-08T10:00:00",
          "2021-05-09T10:00:00",
          "2021-05-10T10:00:00",
          "2021-05-11T10:00:00",
          "2021-05-12T10:00:00",
          "2021-05-13T10:00:00",
          "2021-05-14T10:00:00",
          "2021-05-15T10:00:00",
          "2021-05-16T10:00:00",
          "2021-05-17T10:00:00",
          "2021-05-18T10:00:00",
          "2021-05-19T10:00:00",
          "2021-05-20T10:00:00",
          "2021-05-21T10:00:00",
          "2021-05-22T10:00:00",
          "2021-05-23T10:00:00",
          "2021-05-24T10:00:00",
          "2021-05-25T10:00:00",
          "2021-05-26T10:00:00",
          "2021-05-27T10:00:00",
          "2021-05-28T10:00:00",
          "2021-05-29T10:00:00",
          "2021-05-30T10:00:00",
          "2021-05-31T10:00:00",
          "2021-06-01T10:00:00",
          "2021-06-02T10:00:00",
          "2021-06-03T10:00:00",
          "2021-06-04T10:00:00",
          "2021-06-05T10:00:00",
          "2021-06-06T10:00:00",
          "2021-06-07T10:00:00",
          "2021-06-08T10:00:00",
          "2021-06-09T10:00:00",
          "2021-06-10T10:00:00",
          "2021-06-11T10:00:00",
          "2021-06-12T10:00:00",
          "2021-06-13T10:00:00",
          "2021-06-14T10:00:00",
          "2021-06-15T10:00:00",
          "2021-06-16T10:00:00",
          "2021-06-17T10:00:00",
          "2021-06-18T10:00:00",
          "2021-06-19T10:00:00",
          "2021-06-20T10:00:00",
          "2021-06-21T10:00:00",
          "2021-06-22T10:00:00",
          "2021-06-23T10:00:00",
          "2021-06-24T10:00:00",
          "2021-06-25T10:00:00",
          "2021-06-26T10:00:00",
          "2021-06-27T10:00:00",
          "2021-06-28T10:00:00",
          "2021-06-29T10:00:00",
          "2021-06-30T10:00:00",
          "2021-07-01T10:00:00",
          "2021-07-02T10:00:00",
          "2021-07-03T10:00:00",
          "2021-07-04T10:00:00",
          "2021-07-05T10:00:00",
          "2021-07-06T10:00:00",
          "2021-07-07T10:00:00",
          "2021-07-08T10:00:00",
          "2021-07-09T10:00:00",
          "2021-07-10T10:00:00",
          "2021-07-11T10:00:00",
          "2021-07-12T10:00:00",
          "2021-07-13T10:00:00",
          "2021-07-14T10:00:00",
          "2021-07-15T10:00:00",
          "2021-07-16T10:00:00",
          "2021-07-17T10:00:00",
          "2021-07-18T10:00:00",
          "2021-07-19T10:00:00",
          "2021-07-20T10:00:00",
          "2021-07-21T10:00:00",
          "2021-07-22T10:00:00",
          "2021-07-23T10:00:00",
          "2021-07-24T10:00:00",
          "2021-07-25T10:00:00",
          "2021-07-26T10:00:00",
          "2021-07-27T10:00:00",
          "2021-07-28T10:00:00",
          "2021-07-29T10:00:00",
          "2021-07-30T10:00:00",
          "2021-07-31T10:00:00",
          "2021-08-01T10:00:00",
          "2021-08-02T10:00:00",
          "2021-08-03T10:00:00",
          "2021-08-04T10:00:00",
          "2021-08-05T10:00:00",
          "2021-08-06T10:00:00",
          "2021-08-07T10:00:00",
          "2021-08-08T10:00:00",
          "2021-08-09T10:00:00",
          "2021-08-10T10:00:00",
          "2021-08-11T10:00:00",
          "2021-08-12T10:00:00",
          "2021-08-13T10:00:00",
          "2021-08-14T10:00:00",
          "2021-08-15T10:00:00",
          "2021-08-16T10:00:00",
          "2021-08-17T10:00:00",
          "2021-08-18T10:00:00",
          "2021-08-19T10:00:00",
          "2021-08-20T10:00:00",
          "2021-08-21T10:00:00",
          "2021-08-22T10:00:00",
          "2021-08-23T10:00:00",
          "2021-08-24T10:00:00",
          "2021-08-25T10:00:00",
          "2021-08-26T10:00:00",
          "2021-08-27T10:00:00",
          "2021-08-28T10:00:00",
          "2021-08-29T10:00:00",
          "2021-08-30T10:00:00",
          "2021-08-31T10:00:00",
          "2021-09-01T10:00:00",
          "2021-09-02T10:00:00",
          "2021-09-03T10:00:00",
          "2021-09-04T10:00:00",
          "2021-09-05T10:00:00",
          "2021-09-06T10:00:00",
          "2021-09-07T10:00:00",
          "2021-09-08T10:00:00",
          "2021-09-09T10:00:00",
          "2021-09-10T10:00:00",
          "2021-09-11T10:00:00",
          "2021-09-12T10:00:00",
          "2021-09-13T10:00:00",
          "2021-09-14T10:00:00",
          "2021-09-15T10:00:00",
          "2021-09-16T10:00:00",
          "2021-09-17T10:00:00",
          "2021-09-18T10:00:00",
          "2021-09-19T10:00:00",
          "2021-09-20T10:00:00",
          "2021-09-21T10:00:00",
          "2021-09-22T10:00:00",
          "2021-09-23T10:00:00",
          "2021-09-24T10:00:00",
          "2021-09-25T10:00:00",
          "2021-09-26T10:00:00",
          "2021-09-27T10:00:00",
          "2021-09-28T10:00:00",
          "2021-09-29T10:00:00",
          "2021-09-30T10:00:00",
          "2021-10-01T10:00:00",
          "2021-10-02T10:00:00",
          "2021-10-03T10:00:00",
          "2021-10-04T10:00:00",
          "2021-10-05T10:00:00",
          "2021-10-06T10:00:00",
          "2021-10-07T10:00:00",
          "2021-10-08T10:00:00",
          "2021-10-09T10:00:00",
          "2021-10-10T10:00:00",
          "2021-10-11T10:00:00",
          "2021-10-12T10:00:00",
          "2021-10-13T10:00:00",
          "2021-10-14T10:00:00",
          "2021-10-15T10:00:00",
          "2021-10-16T10:00:00",
          "2021-10-17T10:00:00",
          "2021-10-18T10:00:00",
          "2021-10-19T10:00:00",
          "2021-10-20T10:00:00",
          "2021-10-21T10:00:00",
          "2021-10-22T10:00:00",
          "2021-10-23T10:00:00",
          "2021-10-24T10:00:00",
          "2021-10-25T10:00:00",
          "2021-10-26T10:00:00"
         ],
         "xaxis": "x",
         "y": [
          13.71,
          12.12,
          11.89,
          12.1,
          12.36,
          13.92,
          14.69,
          15.64,
          17,
          18.21,
          18.71,
          19.5,
          20,
          21.07,
          19.57,
          20.43,
          20.79,
          20.79,
          20.57,
          19.79,
          18.79,
          17.93,
          17.29,
          17.14,
          17.71,
          17.43,
          17.29,
          16.21,
          16.29,
          16.43,
          16.29,
          15.79,
          16.07,
          15.21,
          15.64,
          15.93,
          15.86,
          16.14,
          14.86,
          14.29,
          14.07,
          14.07,
          13.64,
          13.57,
          13.57,
          13.36,
          13.07,
          12.57,
          14.43,
          13.5,
          12.86,
          11.86,
          11.5,
          11.21,
          10.93,
          10.57,
          9.93,
          9.64,
          9.14,
          9.07,
          8.21,
          8.71,
          6.43,
          6.36,
          6.71,
          6.07,
          6.36,
          6.21,
          6.29,
          6.5,
          7.14,
          6.79,
          7.64,
          7.93,
          8.5,
          8.43,
          8.64,
          9.43,
          9.5,
          9.86,
          10,
          10.14,
          10.29,
          10,
          9.79,
          9.64,
          9,
          9.07,
          9.21,
          9.21,
          8.57,
          7.57,
          7.21,
          7,
          6.79,
          7,
          6.57,
          7.07,
          6.57,
          6.57,
          6.14,
          6.07,
          5.64,
          5.29,
          5,
          4.86,
          5.21,
          5.21,
          4.93,
          4.43,
          4.14,
          3.57,
          3.5,
          3.71,
          3.64,
          3.64,
          3.64,
          4.21,
          4.57,
          4.86,
          4.71,
          4.86,
          5.64,
          5.86,
          6.21,
          6.14,
          6.07,
          6,
          6.21,
          6,
          5.86,
          5.93,
          6.57,
          8,
          7.86,
          8.29,
          8.29,
          9.07,
          9.57,
          11.07,
          13.36,
          14.21,
          15.29,
          16.14,
          17.21,
          17.86,
          18.14,
          17.57,
          18.5,
          18.43,
          18.5,
          18,
          18.29,
          17.36,
          16.21,
          16.79,
          16.5,
          16.36,
          16.07,
          15.36,
          16.07,
          15.71,
          15.86,
          16.79,
          17.14,
          17.64,
          18.36,
          18.57,
          19.43,
          19.64,
          20.5,
          21.71,
          23.64,
          26.07,
          25.21,
          26.71,
          28.43,
          28.71,
          30.43,
          32.21,
          33.64,
          38.21,
          41.21,
          43.29,
          45.86,
          49.07,
          50.5,
          52.79,
          57.79,
          63.21,
          65.93,
          69.36,
          71.29,
          73.29,
          78.86,
          80.29,
          84.07,
          90.21,
          95.14,
          97.43,
          105.64,
          113.43,
          120.14,
          127.79,
          137.64,
          148.79,
          156.93,
          173.79,
          175.21,
          189.64,
          199.57,
          205.86,
          215.43,
          230.5,
          233.07,
          233.36,
          238.29,
          244,
          245.79,
          253.36,
          258.64,
          256.5,
          259.93,
          259.79,
          261.64,
          260.64,
          253.36,
          244.21,
          240.93,
          239.5,
          232.21,
          221.57,
          213.43,
          199.21,
          187.57,
          175,
          167,
          153.86,
          142.5,
          135.21,
          131.07,
          123.29,
          116.57,
          110,
          110,
          110.14,
          105.64,
          103.21,
          101.5,
          99.29,
          99.86,
          98.71,
          95.57,
          91.64,
          90.21,
          89.5,
          90.29,
          91.64,
          86.79,
          84.43,
          88,
          88,
          89.14,
          91.14,
          93,
          96.36,
          100.21,
          106.29,
          109.36,
          111.5,
          115.79,
          123.29,
          125.86,
          129.57,
          132.14,
          138.36,
          143.5,
          146.79,
          149.86,
          150.21,
          152.14,
          151.57,
          147.57,
          146.93,
          144.29,
          139.5,
          141.71,
          137.71,
          134.5,
          125.64,
          121.36,
          119.57,
          116.5,
          114.57,
          109.57,
          106.79,
          107.86,
          106.93,
          103.43,
          102.57,
          96.86,
          94.5,
          93.5,
          94.43,
          90.79,
          85.86,
          83.64,
          80.36,
          79.5,
          76.71,
          75.36,
          71.79,
          71,
          67,
          66.43,
          65.29,
          62,
          59.43,
          59,
          58.43,
          56.43,
          53.71,
          51.93,
          51.5,
          50.79,
          51.36,
          49.21,
          48.21,
          48.43,
          48.57,
          47.93,
          47.36,
          48,
          47.86,
          46.71,
          47.64,
          46.86,
          47.29,
          47.79,
          48,
          50.5,
          50.14,
          49.5,
          50.5,
          51.43,
          52.64,
          52.5,
          53.5,
          55.43,
          56.64,
          58.36,
          58.79,
          59.07,
          60.79,
          62,
          66.5,
          68.43,
          71,
          74.14,
          76.36,
          78.14,
          80.36,
          82.79,
          86.43,
          89.07,
          92.57,
          98.07,
          101.43,
          103.57,
          105.21,
          107.43,
          111.5,
          116.64,
          118.79,
          122.43,
          124.21,
          128.07,
          127.5,
          130.29,
          130.64,
          128.36,
          126.14,
          131.64,
          131.14,
          135.64,
          132.36,
          131.29,
          131.29,
          130.64,
          130.21,
          126.07,
          133.43,
          138.5,
          143.14,
          147.43,
          153.57,
          154,
          155.93,
          158.07,
          165.86,
          166.14,
          167.93,
          167.43,
          168.36,
          169.93,
          163.14,
          159.21,
          157,
          151,
          150.14,
          147.21,
          147.86,
          145,
          137.71,
          137.07,
          134.93,
          134.93,
          133.79,
          134.71,
          137,
          133.07,
          128.5,
          127.79,
          120.14,
          118.5,
          114.64,
          108.79,
          103.79,
          98.07,
          95.07,
          89.43,
          86.36,
          80.43,
          75.71,
          72.64,
          72.43,
          69.21,
          68.07,
          62.86,
          57.57,
          56,
          54.07,
          51.86,
          49.29,
          48.57,
          47.07,
          46.07,
          41.21,
          40.07,
          36,
          34.64,
          33.57,
          33.07,
          32.93,
          31,
          30.14,
          28.86,
          27.57,
          27.5,
          25.86,
          25.71,
          25.64,
          22.71,
          21.79,
          21.36,
          20.93,
          19.64,
          18.43,
          17.64,
          17.43,
          18,
          19.5,
          23.86,
          29.21,
          43.14,
          69.14,
          114.21,
          169.93,
          203.29,
          231.64,
          253.29,
          288.93,
          314.57,
          334.64,
          357.43,
          370.14,
          376,
          379.5,
          373.79,
          356.36,
          318.86,
          269.64,
          241.14,
          215.86,
          199.43,
          168.64,
          148.64,
          131,
          109,
          95.57,
          87.21,
          80,
          72.36,
          66.71,
          62.21,
          57.43,
          56.07,
          55,
          52.71,
          49.36,
          45.43,
          47.29,
          47.5,
          49.57,
          49.79,
          50.64,
          51.29,
          49.86,
          50.43,
          51.07,
          49.93,
          50.43,
          50.14,
          54,
          53.93,
          52.29,
          53.07,
          53.43,
          54.29,
          54.93,
          56.57,
          59.29,
          57.79,
          59.57,
          61.21,
          61.79,
          64.5,
          62.71,
          64.71,
          65.07,
          66.29,
          66.36,
          65.5,
          66.79,
          66.57,
          65.29,
          67.29,
          66,
          63,
          63,
          59.07,
          59.07,
          58.57,
          59,
          56.36,
          54.86,
          54.14,
          52.43,
          49.71,
          48.21,
          45.14,
          43.43,
          43,
          41.79,
          41.71,
          39.86,
          39.21,
          37.29,
          36.57,
          37.07,
          37.5,
          37.07,
          38.79,
          41.5,
          44.86,
          46.43,
          49.14,
          49.43,
          52.14,
          54.36,
          55,
          59.5,
          64.36,
          65.57,
          68.36,
          75.07,
          76.62,
          76.5,
          76.91,
          79.2,
          81.56,
          86.62
         ],
         "yaxis": "y"
        }
       ],
       "layout": {
        "legend": {
         "tracegroupgap": 0
        },
        "margin": {
         "t": 60
        },
        "template": {
         "data": {
          "bar": [
           {
            "error_x": {
             "color": "#2a3f5f"
            },
            "error_y": {
             "color": "#2a3f5f"
            },
            "marker": {
             "line": {
              "color": "#E5ECF6",
              "width": 0.5
             },
             "pattern": {
              "fillmode": "overlay",
              "size": 10,
              "solidity": 0.2
             }
            },
            "type": "bar"
           }
          ],
          "barpolar": [
           {
            "marker": {
             "line": {
              "color": "#E5ECF6",
              "width": 0.5
             },
             "pattern": {
              "fillmode": "overlay",
              "size": 10,
              "solidity": 0.2
             }
            },
            "type": "barpolar"
           }
          ],
          "carpet": [
           {
            "aaxis": {
             "endlinecolor": "#2a3f5f",
             "gridcolor": "white",
             "linecolor": "white",
             "minorgridcolor": "white",
             "startlinecolor": "#2a3f5f"
            },
            "baxis": {
             "endlinecolor": "#2a3f5f",
             "gridcolor": "white",
             "linecolor": "white",
             "minorgridcolor": "white",
             "startlinecolor": "#2a3f5f"
            },
            "type": "carpet"
           }
          ],
          "choropleth": [
           {
            "colorbar": {
             "outlinewidth": 0,
             "ticks": ""
            },
            "type": "choropleth"
           }
          ],
          "contour": [
           {
            "colorbar": {
             "outlinewidth": 0,
             "ticks": ""
            },
            "colorscale": [
             [
              0,
              "#0d0887"
             ],
             [
              0.1111111111111111,
              "#46039f"
             ],
             [
              0.2222222222222222,
              "#7201a8"
             ],
             [
              0.3333333333333333,
              "#9c179e"
             ],
             [
              0.4444444444444444,
              "#bd3786"
             ],
             [
              0.5555555555555556,
              "#d8576b"
             ],
             [
              0.6666666666666666,
              "#ed7953"
             ],
             [
              0.7777777777777778,
              "#fb9f3a"
             ],
             [
              0.8888888888888888,
              "#fdca26"
             ],
             [
              1,
              "#f0f921"
             ]
            ],
            "type": "contour"
           }
          ],
          "contourcarpet": [
           {
            "colorbar": {
             "outlinewidth": 0,
             "ticks": ""
            },
            "type": "contourcarpet"
           }
          ],
          "heatmap": [
           {
            "colorbar": {
             "outlinewidth": 0,
             "ticks": ""
            },
            "colorscale": [
             [
              0,
              "#0d0887"
             ],
             [
              0.1111111111111111,
              "#46039f"
             ],
             [
              0.2222222222222222,
              "#7201a8"
             ],
             [
              0.3333333333333333,
              "#9c179e"
             ],
             [
              0.4444444444444444,
              "#bd3786"
             ],
             [
              0.5555555555555556,
              "#d8576b"
             ],
             [
              0.6666666666666666,
              "#ed7953"
             ],
             [
              0.7777777777777778,
              "#fb9f3a"
             ],
             [
              0.8888888888888888,
              "#fdca26"
             ],
             [
              1,
              "#f0f921"
             ]
            ],
            "type": "heatmap"
           }
          ],
          "heatmapgl": [
           {
            "colorbar": {
             "outlinewidth": 0,
             "ticks": ""
            },
            "colorscale": [
             [
              0,
              "#0d0887"
             ],
             [
              0.1111111111111111,
              "#46039f"
             ],
             [
              0.2222222222222222,
              "#7201a8"
             ],
             [
              0.3333333333333333,
              "#9c179e"
             ],
             [
              0.4444444444444444,
              "#bd3786"
             ],
             [
              0.5555555555555556,
              "#d8576b"
             ],
             [
              0.6666666666666666,
              "#ed7953"
             ],
             [
              0.7777777777777778,
              "#fb9f3a"
             ],
             [
              0.8888888888888888,
              "#fdca26"
             ],
             [
              1,
              "#f0f921"
             ]
            ],
            "type": "heatmapgl"
           }
          ],
          "histogram": [
           {
            "marker": {
             "pattern": {
              "fillmode": "overlay",
              "size": 10,
              "solidity": 0.2
             }
            },
            "type": "histogram"
           }
          ],
          "histogram2d": [
           {
            "colorbar": {
             "outlinewidth": 0,
             "ticks": ""
            },
            "colorscale": [
             [
              0,
              "#0d0887"
             ],
             [
              0.1111111111111111,
              "#46039f"
             ],
             [
              0.2222222222222222,
              "#7201a8"
             ],
             [
              0.3333333333333333,
              "#9c179e"
             ],
             [
              0.4444444444444444,
              "#bd3786"
             ],
             [
              0.5555555555555556,
              "#d8576b"
             ],
             [
              0.6666666666666666,
              "#ed7953"
             ],
             [
              0.7777777777777778,
              "#fb9f3a"
             ],
             [
              0.8888888888888888,
              "#fdca26"
             ],
             [
              1,
              "#f0f921"
             ]
            ],
            "type": "histogram2d"
           }
          ],
          "histogram2dcontour": [
           {
            "colorbar": {
             "outlinewidth": 0,
             "ticks": ""
            },
            "colorscale": [
             [
              0,
              "#0d0887"
             ],
             [
              0.1111111111111111,
              "#46039f"
             ],
             [
              0.2222222222222222,
              "#7201a8"
             ],
             [
              0.3333333333333333,
              "#9c179e"
             ],
             [
              0.4444444444444444,
              "#bd3786"
             ],
             [
              0.5555555555555556,
              "#d8576b"
             ],
             [
              0.6666666666666666,
              "#ed7953"
             ],
             [
              0.7777777777777778,
              "#fb9f3a"
             ],
             [
              0.8888888888888888,
              "#fdca26"
             ],
             [
              1,
              "#f0f921"
             ]
            ],
            "type": "histogram2dcontour"
           }
          ],
          "mesh3d": [
           {
            "colorbar": {
             "outlinewidth": 0,
             "ticks": ""
            },
            "type": "mesh3d"
           }
          ],
          "parcoords": [
           {
            "line": {
             "colorbar": {
              "outlinewidth": 0,
              "ticks": ""
             }
            },
            "type": "parcoords"
           }
          ],
          "pie": [
           {
            "automargin": true,
            "type": "pie"
           }
          ],
          "scatter": [
           {
            "marker": {
             "colorbar": {
              "outlinewidth": 0,
              "ticks": ""
             }
            },
            "type": "scatter"
           }
          ],
          "scatter3d": [
           {
            "line": {
             "colorbar": {
              "outlinewidth": 0,
              "ticks": ""
             }
            },
            "marker": {
             "colorbar": {
              "outlinewidth": 0,
              "ticks": ""
             }
            },
            "type": "scatter3d"
           }
          ],
          "scattercarpet": [
           {
            "marker": {
             "colorbar": {
              "outlinewidth": 0,
              "ticks": ""
             }
            },
            "type": "scattercarpet"
           }
          ],
          "scattergeo": [
           {
            "marker": {
             "colorbar": {
              "outlinewidth": 0,
              "ticks": ""
             }
            },
            "type": "scattergeo"
           }
          ],
          "scattergl": [
           {
            "marker": {
             "colorbar": {
              "outlinewidth": 0,
              "ticks": ""
             }
            },
            "type": "scattergl"
           }
          ],
          "scattermapbox": [
           {
            "marker": {
             "colorbar": {
              "outlinewidth": 0,
              "ticks": ""
             }
            },
            "type": "scattermapbox"
           }
          ],
          "scatterpolar": [
           {
            "marker": {
             "colorbar": {
              "outlinewidth": 0,
              "ticks": ""
             }
            },
            "type": "scatterpolar"
           }
          ],
          "scatterpolargl": [
           {
            "marker": {
             "colorbar": {
              "outlinewidth": 0,
              "ticks": ""
             }
            },
            "type": "scatterpolargl"
           }
          ],
          "scatterternary": [
           {
            "marker": {
             "colorbar": {
              "outlinewidth": 0,
              "ticks": ""
             }
            },
            "type": "scatterternary"
           }
          ],
          "surface": [
           {
            "colorbar": {
             "outlinewidth": 0,
             "ticks": ""
            },
            "colorscale": [
             [
              0,
              "#0d0887"
             ],
             [
              0.1111111111111111,
              "#46039f"
             ],
             [
              0.2222222222222222,
              "#7201a8"
             ],
             [
              0.3333333333333333,
              "#9c179e"
             ],
             [
              0.4444444444444444,
              "#bd3786"
             ],
             [
              0.5555555555555556,
              "#d8576b"
             ],
             [
              0.6666666666666666,
              "#ed7953"
             ],
             [
              0.7777777777777778,
              "#fb9f3a"
             ],
             [
              0.8888888888888888,
              "#fdca26"
             ],
             [
              1,
              "#f0f921"
             ]
            ],
            "type": "surface"
           }
          ],
          "table": [
           {
            "cells": {
             "fill": {
              "color": "#EBF0F8"
             },
             "line": {
              "color": "white"
             }
            },
            "header": {
             "fill": {
              "color": "#C8D4E3"
             },
             "line": {
              "color": "white"
             }
            },
            "type": "table"
           }
          ]
         },
         "layout": {
          "annotationdefaults": {
           "arrowcolor": "#2a3f5f",
           "arrowhead": 0,
           "arrowwidth": 1
          },
          "autotypenumbers": "strict",
          "coloraxis": {
           "colorbar": {
            "outlinewidth": 0,
            "ticks": ""
           }
          },
          "colorscale": {
           "diverging": [
            [
             0,
             "#8e0152"
            ],
            [
             0.1,
             "#c51b7d"
            ],
            [
             0.2,
             "#de77ae"
            ],
            [
             0.3,
             "#f1b6da"
            ],
            [
             0.4,
             "#fde0ef"
            ],
            [
             0.5,
             "#f7f7f7"
            ],
            [
             0.6,
             "#e6f5d0"
            ],
            [
             0.7,
             "#b8e186"
            ],
            [
             0.8,
             "#7fbc41"
            ],
            [
             0.9,
             "#4d9221"
            ],
            [
             1,
             "#276419"
            ]
           ],
           "sequential": [
            [
             0,
             "#0d0887"
            ],
            [
             0.1111111111111111,
             "#46039f"
            ],
            [
             0.2222222222222222,
             "#7201a8"
            ],
            [
             0.3333333333333333,
             "#9c179e"
            ],
            [
             0.4444444444444444,
             "#bd3786"
            ],
            [
             0.5555555555555556,
             "#d8576b"
            ],
            [
             0.6666666666666666,
             "#ed7953"
            ],
            [
             0.7777777777777778,
             "#fb9f3a"
            ],
            [
             0.8888888888888888,
             "#fdca26"
            ],
            [
             1,
             "#f0f921"
            ]
           ],
           "sequentialminus": [
            [
             0,
             "#0d0887"
            ],
            [
             0.1111111111111111,
             "#46039f"
            ],
            [
             0.2222222222222222,
             "#7201a8"
            ],
            [
             0.3333333333333333,
             "#9c179e"
            ],
            [
             0.4444444444444444,
             "#bd3786"
            ],
            [
             0.5555555555555556,
             "#d8576b"
            ],
            [
             0.6666666666666666,
             "#ed7953"
            ],
            [
             0.7777777777777778,
             "#fb9f3a"
            ],
            [
             0.8888888888888888,
             "#fdca26"
            ],
            [
             1,
             "#f0f921"
            ]
           ]
          },
          "colorway": [
           "#636efa",
           "#EF553B",
           "#00cc96",
           "#ab63fa",
           "#FFA15A",
           "#19d3f3",
           "#FF6692",
           "#B6E880",
           "#FF97FF",
           "#FECB52"
          ],
          "font": {
           "color": "#2a3f5f"
          },
          "geo": {
           "bgcolor": "white",
           "lakecolor": "white",
           "landcolor": "#E5ECF6",
           "showlakes": true,
           "showland": true,
           "subunitcolor": "white"
          },
          "hoverlabel": {
           "align": "left"
          },
          "hovermode": "closest",
          "mapbox": {
           "style": "light"
          },
          "paper_bgcolor": "white",
          "plot_bgcolor": "#E5ECF6",
          "polar": {
           "angularaxis": {
            "gridcolor": "white",
            "linecolor": "white",
            "ticks": ""
           },
           "bgcolor": "#E5ECF6",
           "radialaxis": {
            "gridcolor": "white",
            "linecolor": "white",
            "ticks": ""
           }
          },
          "scene": {
           "xaxis": {
            "backgroundcolor": "#E5ECF6",
            "gridcolor": "white",
            "gridwidth": 2,
            "linecolor": "white",
            "showbackground": true,
            "ticks": "",
            "zerolinecolor": "white"
           },
           "yaxis": {
            "backgroundcolor": "#E5ECF6",
            "gridcolor": "white",
            "gridwidth": 2,
            "linecolor": "white",
            "showbackground": true,
            "ticks": "",
            "zerolinecolor": "white"
           },
           "zaxis": {
            "backgroundcolor": "#E5ECF6",
            "gridcolor": "white",
            "gridwidth": 2,
            "linecolor": "white",
            "showbackground": true,
            "ticks": "",
            "zerolinecolor": "white"
           }
          },
          "shapedefaults": {
           "line": {
            "color": "#2a3f5f"
           }
          },
          "ternary": {
           "aaxis": {
            "gridcolor": "white",
            "linecolor": "white",
            "ticks": ""
           },
           "baxis": {
            "gridcolor": "white",
            "linecolor": "white",
            "ticks": ""
           },
           "bgcolor": "#E5ECF6",
           "caxis": {
            "gridcolor": "white",
            "linecolor": "white",
            "ticks": ""
           }
          },
          "title": {
           "x": 0.05
          },
          "xaxis": {
           "automargin": true,
           "gridcolor": "white",
           "linecolor": "white",
           "ticks": "",
           "title": {
            "standoff": 15
           },
           "zerolinecolor": "white",
           "zerolinewidth": 2
          },
          "yaxis": {
           "automargin": true,
           "gridcolor": "white",
           "linecolor": "white",
           "ticks": "",
           "title": {
            "standoff": 15
           },
           "zerolinecolor": "white",
           "zerolinewidth": 2
          }
         }
        },
        "xaxis": {
         "anchor": "y",
         "domain": [
          0,
          1
         ],
         "title": {
          "text": "Date_of_report"
         }
        },
        "yaxis": {
         "anchor": "x",
         "domain": [
          0,
          1
         ],
         "title": {
          "text": "Daily_reported_moving_average"
         }
        }
       }
      }
     },
     "metadata": {},
     "output_type": "display_data"
    }
   ],
   "source": [
    "px.line(\n",
    "    covid_data_cleaned[covid_data_cleaned[\"Municipality_name\"] == \"Utrecht\"], \n",
    "    x=\"Date_of_report\",\n",
    "    y=\"Daily_reported_moving_average\",\n",
    ")"
   ]
  },
  {
   "cell_type": "code",
   "execution_count": 27,
   "metadata": {},
   "outputs": [
    {
     "data": {
      "application/vnd.plotly.v1+json": {
       "config": {
        "plotlyServerURL": "https://plot.ly"
       },
       "data": [
        {
         "hovertemplate": "Date_of_report=%{x}<br>Daily_reported=%{y}<extra></extra>",
         "legendgroup": "",
         "line": {
          "color": "#636efa",
          "dash": "solid"
         },
         "mode": "lines",
         "name": "",
         "orientation": "v",
         "showlegend": false,
         "type": "scatter",
         "x": [
          "2020-03-14T10:00:00",
          "2020-03-15T10:00:00",
          "2020-03-16T10:00:00",
          "2020-03-17T10:00:00",
          "2020-03-18T10:00:00",
          "2020-03-19T10:00:00",
          "2020-03-20T10:00:00",
          "2020-03-21T10:00:00",
          "2020-03-22T10:00:00",
          "2020-03-23T10:00:00",
          "2020-03-24T10:00:00",
          "2020-03-25T10:00:00",
          "2020-03-26T10:00:00",
          "2020-03-27T10:00:00",
          "2020-03-28T10:00:00",
          "2020-03-29T10:00:00",
          "2020-03-30T10:00:00",
          "2020-03-31T10:00:00",
          "2020-04-01T10:00:00",
          "2020-04-02T10:00:00",
          "2020-04-03T10:00:00",
          "2020-04-04T10:00:00",
          "2020-04-05T10:00:00",
          "2020-04-06T10:00:00",
          "2020-04-07T10:00:00",
          "2020-04-08T10:00:00",
          "2020-04-09T10:00:00",
          "2020-04-10T10:00:00",
          "2020-04-11T10:00:00",
          "2020-04-12T10:00:00",
          "2020-04-13T10:00:00",
          "2020-04-14T10:00:00",
          "2020-04-15T10:00:00",
          "2020-04-16T10:00:00",
          "2020-04-17T10:00:00",
          "2020-04-18T10:00:00",
          "2020-04-19T10:00:00",
          "2020-04-20T10:00:00",
          "2020-04-21T10:00:00",
          "2020-04-22T10:00:00",
          "2020-04-23T10:00:00",
          "2020-04-24T10:00:00",
          "2020-04-25T10:00:00",
          "2020-04-26T10:00:00",
          "2020-04-27T10:00:00",
          "2020-04-28T10:00:00",
          "2020-04-29T10:00:00",
          "2020-04-30T10:00:00",
          "2020-05-01T10:00:00",
          "2020-05-02T10:00:00",
          "2020-05-03T10:00:00",
          "2020-05-04T10:00:00",
          "2020-05-05T10:00:00",
          "2020-05-06T10:00:00",
          "2020-05-07T10:00:00",
          "2020-05-08T10:00:00",
          "2020-05-09T10:00:00",
          "2020-05-10T10:00:00",
          "2020-05-11T10:00:00",
          "2020-05-12T10:00:00",
          "2020-05-13T10:00:00",
          "2020-05-14T10:00:00",
          "2020-05-15T10:00:00",
          "2020-05-16T10:00:00",
          "2020-05-17T10:00:00",
          "2020-05-18T10:00:00",
          "2020-05-19T10:00:00",
          "2020-05-20T10:00:00",
          "2020-05-21T10:00:00",
          "2020-05-22T10:00:00",
          "2020-05-23T10:00:00",
          "2020-05-24T10:00:00",
          "2020-05-25T10:00:00",
          "2020-05-26T10:00:00",
          "2020-05-27T10:00:00",
          "2020-05-28T10:00:00",
          "2020-05-29T10:00:00",
          "2020-05-30T10:00:00",
          "2020-05-31T10:00:00",
          "2020-06-01T10:00:00",
          "2020-06-02T10:00:00",
          "2020-06-03T10:00:00",
          "2020-06-04T10:00:00",
          "2020-06-05T10:00:00",
          "2020-06-06T10:00:00",
          "2020-06-07T10:00:00",
          "2020-06-08T10:00:00",
          "2020-06-09T10:00:00",
          "2020-06-10T10:00:00",
          "2020-06-11T10:00:00",
          "2020-06-12T10:00:00",
          "2020-06-13T10:00:00",
          "2020-06-14T10:00:00",
          "2020-06-15T10:00:00",
          "2020-06-16T10:00:00",
          "2020-06-17T10:00:00",
          "2020-06-18T10:00:00",
          "2020-06-19T10:00:00",
          "2020-06-20T10:00:00",
          "2020-06-21T10:00:00",
          "2020-06-22T10:00:00",
          "2020-06-23T10:00:00",
          "2020-06-24T10:00:00",
          "2020-06-25T10:00:00",
          "2020-06-26T10:00:00",
          "2020-06-27T10:00:00",
          "2020-06-28T10:00:00",
          "2020-06-29T10:00:00",
          "2020-06-30T10:00:00",
          "2020-07-01T10:00:00",
          "2020-07-02T10:00:00",
          "2020-07-03T10:00:00",
          "2020-07-04T10:00:00",
          "2020-07-05T10:00:00",
          "2020-07-06T10:00:00",
          "2020-07-07T10:00:00",
          "2020-07-08T10:00:00",
          "2020-07-09T10:00:00",
          "2020-07-10T10:00:00",
          "2020-07-11T10:00:00",
          "2020-07-12T10:00:00",
          "2020-07-13T10:00:00",
          "2020-07-14T10:00:00",
          "2020-07-15T10:00:00",
          "2020-07-16T10:00:00",
          "2020-07-17T10:00:00",
          "2020-07-18T10:00:00",
          "2020-07-19T10:00:00",
          "2020-07-20T10:00:00",
          "2020-07-21T10:00:00",
          "2020-07-22T10:00:00",
          "2020-07-23T10:00:00",
          "2020-07-24T10:00:00",
          "2020-07-25T10:00:00",
          "2020-07-26T10:00:00",
          "2020-07-27T10:00:00",
          "2020-07-28T10:00:00",
          "2020-07-29T10:00:00",
          "2020-07-30T10:00:00",
          "2020-07-31T10:00:00",
          "2020-08-01T10:00:00",
          "2020-08-02T10:00:00",
          "2020-08-03T10:00:00",
          "2020-08-04T10:00:00",
          "2020-08-05T10:00:00",
          "2020-08-06T10:00:00",
          "2020-08-07T10:00:00",
          "2020-08-08T10:00:00",
          "2020-08-09T10:00:00",
          "2020-08-10T10:00:00",
          "2020-08-11T10:00:00",
          "2020-08-12T10:00:00",
          "2020-08-13T10:00:00",
          "2020-08-14T10:00:00",
          "2020-08-15T10:00:00",
          "2020-08-16T10:00:00",
          "2020-08-17T10:00:00",
          "2020-08-18T10:00:00",
          "2020-08-19T10:00:00",
          "2020-08-20T10:00:00",
          "2020-08-21T10:00:00",
          "2020-08-22T10:00:00",
          "2020-08-23T10:00:00",
          "2020-08-24T10:00:00",
          "2020-08-25T10:00:00",
          "2020-08-26T10:00:00",
          "2020-08-27T10:00:00",
          "2020-08-28T10:00:00",
          "2020-08-29T10:00:00",
          "2020-08-30T10:00:00",
          "2020-08-31T10:00:00",
          "2020-09-01T10:00:00",
          "2020-09-02T10:00:00",
          "2020-09-03T10:00:00",
          "2020-09-04T10:00:00",
          "2020-09-05T10:00:00",
          "2020-09-06T10:00:00",
          "2020-09-07T10:00:00",
          "2020-09-08T10:00:00",
          "2020-09-09T10:00:00",
          "2020-09-10T10:00:00",
          "2020-09-11T10:00:00",
          "2020-09-12T10:00:00",
          "2020-09-13T10:00:00",
          "2020-09-14T10:00:00",
          "2020-09-15T10:00:00",
          "2020-09-16T10:00:00",
          "2020-09-17T10:00:00",
          "2020-09-18T10:00:00",
          "2020-09-19T10:00:00",
          "2020-09-20T10:00:00",
          "2020-09-21T10:00:00",
          "2020-09-22T10:00:00",
          "2020-09-23T10:00:00",
          "2020-09-24T10:00:00",
          "2020-09-25T10:00:00",
          "2020-09-26T10:00:00",
          "2020-09-27T10:00:00",
          "2020-09-28T10:00:00",
          "2020-09-29T10:00:00",
          "2020-09-30T10:00:00",
          "2020-10-01T10:00:00",
          "2020-10-02T10:00:00",
          "2020-10-03T10:00:00",
          "2020-10-04T10:00:00",
          "2020-10-05T10:00:00",
          "2020-10-06T10:00:00",
          "2020-10-07T10:00:00",
          "2020-10-08T10:00:00",
          "2020-10-09T10:00:00",
          "2020-10-10T10:00:00",
          "2020-10-11T10:00:00",
          "2020-10-12T10:00:00",
          "2020-10-13T10:00:00",
          "2020-10-14T10:00:00",
          "2020-10-15T10:00:00",
          "2020-10-16T10:00:00",
          "2020-10-17T10:00:00",
          "2020-10-18T10:00:00",
          "2020-10-19T10:00:00",
          "2020-10-20T10:00:00",
          "2020-10-21T10:00:00",
          "2020-10-22T10:00:00",
          "2020-10-23T10:00:00",
          "2020-10-24T10:00:00",
          "2020-10-25T10:00:00",
          "2020-10-26T10:00:00",
          "2020-10-27T10:00:00",
          "2020-10-28T10:00:00",
          "2020-10-29T10:00:00",
          "2020-10-30T10:00:00",
          "2020-10-31T10:00:00",
          "2020-11-01T10:00:00",
          "2020-11-02T10:00:00",
          "2020-11-03T10:00:00",
          "2020-11-04T10:00:00",
          "2020-11-05T10:00:00",
          "2020-11-06T10:00:00",
          "2020-11-07T10:00:00",
          "2020-11-08T10:00:00",
          "2020-11-09T10:00:00",
          "2020-11-10T10:00:00",
          "2020-11-11T10:00:00",
          "2020-11-12T10:00:00",
          "2020-11-13T10:00:00",
          "2020-11-14T10:00:00",
          "2020-11-15T10:00:00",
          "2020-11-16T10:00:00",
          "2020-11-17T10:00:00",
          "2020-11-18T10:00:00",
          "2020-11-19T10:00:00",
          "2020-11-20T10:00:00",
          "2020-11-21T10:00:00",
          "2020-11-22T10:00:00",
          "2020-11-23T10:00:00",
          "2020-11-24T10:00:00",
          "2020-11-25T10:00:00",
          "2020-11-26T10:00:00",
          "2020-11-27T10:00:00",
          "2020-11-28T10:00:00",
          "2020-11-29T10:00:00",
          "2020-11-30T10:00:00",
          "2020-12-01T10:00:00",
          "2020-12-02T10:00:00",
          "2020-12-03T10:00:00",
          "2020-12-04T10:00:00",
          "2020-12-05T10:00:00",
          "2020-12-06T10:00:00",
          "2020-12-07T10:00:00",
          "2020-12-08T10:00:00",
          "2020-12-09T10:00:00",
          "2020-12-10T10:00:00",
          "2020-12-11T10:00:00",
          "2020-12-12T10:00:00",
          "2020-12-13T10:00:00",
          "2020-12-14T10:00:00",
          "2020-12-15T10:00:00",
          "2020-12-16T10:00:00",
          "2020-12-17T10:00:00",
          "2020-12-18T10:00:00",
          "2020-12-19T10:00:00",
          "2020-12-20T10:00:00",
          "2020-12-21T10:00:00",
          "2020-12-22T10:00:00",
          "2020-12-23T10:00:00",
          "2020-12-24T10:00:00",
          "2020-12-25T10:00:00",
          "2020-12-26T10:00:00",
          "2020-12-27T10:00:00",
          "2020-12-28T10:00:00",
          "2020-12-29T10:00:00",
          "2020-12-30T10:00:00",
          "2020-12-31T10:00:00",
          "2021-01-01T10:00:00",
          "2021-01-02T10:00:00",
          "2021-01-03T10:00:00",
          "2021-01-04T10:00:00",
          "2021-01-05T10:00:00",
          "2021-01-06T10:00:00",
          "2021-01-07T10:00:00",
          "2021-01-08T10:00:00",
          "2021-01-09T10:00:00",
          "2021-01-10T10:00:00",
          "2021-01-11T10:00:00",
          "2021-01-12T10:00:00",
          "2021-01-13T10:00:00",
          "2021-01-14T10:00:00",
          "2021-01-15T10:00:00",
          "2021-01-16T10:00:00",
          "2021-01-17T10:00:00",
          "2021-01-18T10:00:00",
          "2021-01-19T10:00:00",
          "2021-01-20T10:00:00",
          "2021-01-21T10:00:00",
          "2021-01-22T10:00:00",
          "2021-01-23T10:00:00",
          "2021-01-24T10:00:00",
          "2021-01-25T10:00:00",
          "2021-01-26T10:00:00",
          "2021-01-27T10:00:00",
          "2021-01-28T10:00:00",
          "2021-01-29T10:00:00",
          "2021-01-30T10:00:00",
          "2021-01-31T10:00:00",
          "2021-02-01T10:00:00",
          "2021-02-02T10:00:00",
          "2021-02-03T10:00:00",
          "2021-02-04T10:00:00",
          "2021-02-05T10:00:00",
          "2021-02-06T10:00:00",
          "2021-02-07T10:00:00",
          "2021-02-08T10:00:00",
          "2021-02-09T10:00:00",
          "2021-02-10T10:00:00",
          "2021-02-11T10:00:00",
          "2021-02-12T10:00:00",
          "2021-02-13T10:00:00",
          "2021-02-14T10:00:00",
          "2021-02-15T10:00:00",
          "2021-02-16T10:00:00",
          "2021-02-17T10:00:00",
          "2021-02-18T10:00:00",
          "2021-02-19T10:00:00",
          "2021-02-20T10:00:00",
          "2021-02-21T10:00:00",
          "2021-02-22T10:00:00",
          "2021-02-23T10:00:00",
          "2021-02-24T10:00:00",
          "2021-02-25T10:00:00",
          "2021-02-26T10:00:00",
          "2021-02-27T10:00:00",
          "2021-02-28T10:00:00",
          "2021-03-01T10:00:00",
          "2021-03-02T10:00:00",
          "2021-03-03T10:00:00",
          "2021-03-04T10:00:00",
          "2021-03-05T10:00:00",
          "2021-03-06T10:00:00",
          "2021-03-07T10:00:00",
          "2021-03-08T10:00:00",
          "2021-03-09T10:00:00",
          "2021-03-10T10:00:00",
          "2021-03-11T10:00:00",
          "2021-03-12T10:00:00",
          "2021-03-13T10:00:00",
          "2021-03-14T10:00:00",
          "2021-03-15T10:00:00",
          "2021-03-16T10:00:00",
          "2021-03-17T10:00:00",
          "2021-03-18T10:00:00",
          "2021-03-19T10:00:00",
          "2021-03-20T10:00:00",
          "2021-03-21T10:00:00",
          "2021-03-22T10:00:00",
          "2021-03-23T10:00:00",
          "2021-03-24T10:00:00",
          "2021-03-25T10:00:00",
          "2021-03-26T10:00:00",
          "2021-03-27T10:00:00",
          "2021-03-28T10:00:00",
          "2021-03-29T10:00:00",
          "2021-03-30T10:00:00",
          "2021-03-31T10:00:00",
          "2021-04-01T10:00:00",
          "2021-04-02T10:00:00",
          "2021-04-03T10:00:00",
          "2021-04-04T10:00:00",
          "2021-04-05T10:00:00",
          "2021-04-06T10:00:00",
          "2021-04-07T10:00:00",
          "2021-04-08T10:00:00",
          "2021-04-09T10:00:00",
          "2021-04-10T10:00:00",
          "2021-04-11T10:00:00",
          "2021-04-12T10:00:00",
          "2021-04-13T10:00:00",
          "2021-04-14T10:00:00",
          "2021-04-15T10:00:00",
          "2021-04-16T10:00:00",
          "2021-04-17T10:00:00",
          "2021-04-18T10:00:00",
          "2021-04-19T10:00:00",
          "2021-04-20T10:00:00",
          "2021-04-21T10:00:00",
          "2021-04-22T10:00:00",
          "2021-04-23T10:00:00",
          "2021-04-24T10:00:00",
          "2021-04-25T10:00:00",
          "2021-04-26T10:00:00",
          "2021-04-27T10:00:00",
          "2021-04-28T10:00:00",
          "2021-04-29T10:00:00",
          "2021-04-30T10:00:00",
          "2021-05-01T10:00:00",
          "2021-05-02T10:00:00",
          "2021-05-03T10:00:00",
          "2021-05-04T10:00:00",
          "2021-05-05T10:00:00",
          "2021-05-06T10:00:00",
          "2021-05-07T10:00:00",
          "2021-05-08T10:00:00",
          "2021-05-09T10:00:00",
          "2021-05-10T10:00:00",
          "2021-05-11T10:00:00",
          "2021-05-12T10:00:00",
          "2021-05-13T10:00:00",
          "2021-05-14T10:00:00",
          "2021-05-15T10:00:00",
          "2021-05-16T10:00:00",
          "2021-05-17T10:00:00",
          "2021-05-18T10:00:00",
          "2021-05-19T10:00:00",
          "2021-05-20T10:00:00",
          "2021-05-21T10:00:00",
          "2021-05-22T10:00:00",
          "2021-05-23T10:00:00",
          "2021-05-24T10:00:00",
          "2021-05-25T10:00:00",
          "2021-05-26T10:00:00",
          "2021-05-27T10:00:00",
          "2021-05-28T10:00:00",
          "2021-05-29T10:00:00",
          "2021-05-30T10:00:00",
          "2021-05-31T10:00:00",
          "2021-06-01T10:00:00",
          "2021-06-02T10:00:00",
          "2021-06-03T10:00:00",
          "2021-06-04T10:00:00",
          "2021-06-05T10:00:00",
          "2021-06-06T10:00:00",
          "2021-06-07T10:00:00",
          "2021-06-08T10:00:00",
          "2021-06-09T10:00:00",
          "2021-06-10T10:00:00",
          "2021-06-11T10:00:00",
          "2021-06-12T10:00:00",
          "2021-06-13T10:00:00",
          "2021-06-14T10:00:00",
          "2021-06-15T10:00:00",
          "2021-06-16T10:00:00",
          "2021-06-17T10:00:00",
          "2021-06-18T10:00:00",
          "2021-06-19T10:00:00",
          "2021-06-20T10:00:00",
          "2021-06-21T10:00:00",
          "2021-06-22T10:00:00",
          "2021-06-23T10:00:00",
          "2021-06-24T10:00:00",
          "2021-06-25T10:00:00",
          "2021-06-26T10:00:00",
          "2021-06-27T10:00:00",
          "2021-06-28T10:00:00",
          "2021-06-29T10:00:00",
          "2021-06-30T10:00:00",
          "2021-07-01T10:00:00",
          "2021-07-02T10:00:00",
          "2021-07-03T10:00:00",
          "2021-07-04T10:00:00",
          "2021-07-05T10:00:00",
          "2021-07-06T10:00:00",
          "2021-07-07T10:00:00",
          "2021-07-08T10:00:00",
          "2021-07-09T10:00:00",
          "2021-07-10T10:00:00",
          "2021-07-11T10:00:00",
          "2021-07-12T10:00:00",
          "2021-07-13T10:00:00",
          "2021-07-14T10:00:00",
          "2021-07-15T10:00:00",
          "2021-07-16T10:00:00",
          "2021-07-17T10:00:00",
          "2021-07-18T10:00:00",
          "2021-07-19T10:00:00",
          "2021-07-20T10:00:00",
          "2021-07-21T10:00:00",
          "2021-07-22T10:00:00",
          "2021-07-23T10:00:00",
          "2021-07-24T10:00:00",
          "2021-07-25T10:00:00",
          "2021-07-26T10:00:00",
          "2021-07-27T10:00:00",
          "2021-07-28T10:00:00",
          "2021-07-29T10:00:00",
          "2021-07-30T10:00:00",
          "2021-07-31T10:00:00",
          "2021-08-01T10:00:00",
          "2021-08-02T10:00:00",
          "2021-08-03T10:00:00",
          "2021-08-04T10:00:00",
          "2021-08-05T10:00:00",
          "2021-08-06T10:00:00",
          "2021-08-07T10:00:00",
          "2021-08-08T10:00:00",
          "2021-08-09T10:00:00",
          "2021-08-10T10:00:00",
          "2021-08-11T10:00:00",
          "2021-08-12T10:00:00",
          "2021-08-13T10:00:00",
          "2021-08-14T10:00:00",
          "2021-08-15T10:00:00",
          "2021-08-16T10:00:00",
          "2021-08-17T10:00:00",
          "2021-08-18T10:00:00",
          "2021-08-19T10:00:00",
          "2021-08-20T10:00:00",
          "2021-08-21T10:00:00",
          "2021-08-22T10:00:00",
          "2021-08-23T10:00:00",
          "2021-08-24T10:00:00",
          "2021-08-25T10:00:00",
          "2021-08-26T10:00:00",
          "2021-08-27T10:00:00",
          "2021-08-28T10:00:00",
          "2021-08-29T10:00:00",
          "2021-08-30T10:00:00",
          "2021-08-31T10:00:00",
          "2021-09-01T10:00:00",
          "2021-09-02T10:00:00",
          "2021-09-03T10:00:00",
          "2021-09-04T10:00:00",
          "2021-09-05T10:00:00",
          "2021-09-06T10:00:00",
          "2021-09-07T10:00:00",
          "2021-09-08T10:00:00",
          "2021-09-09T10:00:00",
          "2021-09-10T10:00:00",
          "2021-09-11T10:00:00",
          "2021-09-12T10:00:00",
          "2021-09-13T10:00:00",
          "2021-09-14T10:00:00",
          "2021-09-15T10:00:00",
          "2021-09-16T10:00:00",
          "2021-09-17T10:00:00",
          "2021-09-18T10:00:00",
          "2021-09-19T10:00:00",
          "2021-09-20T10:00:00",
          "2021-09-21T10:00:00",
          "2021-09-22T10:00:00",
          "2021-09-23T10:00:00",
          "2021-09-24T10:00:00",
          "2021-09-25T10:00:00",
          "2021-09-26T10:00:00",
          "2021-09-27T10:00:00",
          "2021-09-28T10:00:00",
          "2021-09-29T10:00:00",
          "2021-09-30T10:00:00",
          "2021-10-01T10:00:00",
          "2021-10-02T10:00:00",
          "2021-10-03T10:00:00",
          "2021-10-04T10:00:00",
          "2021-10-05T10:00:00",
          "2021-10-06T10:00:00",
          "2021-10-07T10:00:00",
          "2021-10-08T10:00:00",
          "2021-10-09T10:00:00",
          "2021-10-10T10:00:00",
          "2021-10-11T10:00:00",
          "2021-10-12T10:00:00",
          "2021-10-13T10:00:00",
          "2021-10-14T10:00:00",
          "2021-10-15T10:00:00",
          "2021-10-16T10:00:00",
          "2021-10-17T10:00:00",
          "2021-10-18T10:00:00",
          "2021-10-19T10:00:00",
          "2021-10-20T10:00:00",
          "2021-10-21T10:00:00",
          "2021-10-22T10:00:00",
          "2021-10-23T10:00:00",
          "2021-10-24T10:00:00",
          "2021-10-25T10:00:00",
          "2021-10-26T10:00:00"
         ],
         "xaxis": "x",
         "y": [
          4,
          8,
          10,
          12,
          9,
          14,
          39,
          1,
          10,
          14,
          15,
          31,
          24,
          28,
          23,
          25,
          17,
          23,
          16,
          29,
          18,
          13,
          15,
          14,
          12,
          20,
          10,
          16,
          14,
          23,
          25,
          19,
          14,
          14,
          19,
          15,
          13,
          7,
          16,
          8,
          16,
          20,
          13,
          27,
          7,
          11,
          11,
          14,
          13,
          14,
          13,
          4,
          12,
          1,
          42,
          7,
          4,
          13,
          2,
          7,
          7,
          9,
          4,
          10,
          6,
          3,
          0,
          8,
          10,
          6,
          9,
          4,
          6,
          5,
          8,
          12,
          13,
          5,
          18,
          7,
          8,
          7,
          13,
          17,
          10,
          9,
          8,
          7,
          10,
          8,
          10,
          3,
          9,
          8,
          10,
          7,
          4,
          3,
          5,
          6,
          5,
          10,
          4,
          15,
          3,
          3,
          3,
          7,
          4,
          2,
          0,
          1,
          10,
          6,
          1,
          3,
          0,
          7,
          2,
          6,
          2,
          7,
          4,
          10,
          5,
          5,
          8,
          8,
          12,
          6,
          5,
          6,
          1,
          5,
          5,
          4,
          2,
          11,
          14,
          25,
          6,
          14,
          12,
          17,
          12,
          27,
          33,
          17,
          20,
          16,
          17,
          20,
          18,
          17,
          19,
          13,
          13,
          10,
          16,
          14,
          17,
          25,
          16,
          14,
          13,
          10,
          28,
          12,
          21,
          26,
          18,
          17,
          26,
          17,
          29,
          28,
          28,
          31,
          40,
          44,
          16,
          33,
          45,
          30,
          42,
          42,
          46,
          81,
          71,
          57,
          64,
          76,
          60,
          76,
          86,
          109,
          83,
          78,
          69,
          70,
          124,
          101,
          124,
          143,
          133,
          108,
          175,
          185,
          180,
          216,
          221,
          234,
          183,
          306,
          144,
          303,
          263,
          231,
          267,
          319,
          211,
          189,
          249,
          296,
          246,
          340,
          257,
          276,
          192,
          301,
          289,
          217,
          165,
          191,
          165,
          169,
          147,
          147,
          132,
          141,
          94,
          100,
          80,
          117,
          130,
          115,
          107,
          82,
          71,
          77,
          147,
          149,
          69,
          107,
          70,
          69,
          88,
          101,
          86,
          60,
          87,
          72,
          82,
          96,
          79,
          116,
          119,
          107,
          86,
          97,
          114,
          148,
          140,
          145,
          130,
          102,
          142,
          201,
          115,
          168,
          155,
          194,
          158,
          143,
          157,
          153,
          167,
          137,
          74,
          93,
          105,
          134,
          146,
          112,
          110,
          70,
          98,
          118,
          114,
          126,
          97,
          98,
          89,
          80,
          56,
          122,
          66,
          79,
          96,
          83,
          47,
          49,
          83,
          80,
          85,
          59,
          70,
          30,
          45,
          66,
          58,
          63,
          50,
          47,
          41,
          41,
          55,
          42,
          60,
          53,
          60,
          38,
          15,
          52,
          61,
          65,
          41,
          39,
          50,
          39,
          39,
          55,
          49,
          59,
          67,
          41,
          50,
          47,
          52,
          79,
          54,
          56,
          48,
          53,
          66,
          72,
          73,
          65,
          71,
          65,
          67,
          110,
          79,
          115,
          98,
          87,
          73,
          84,
          100,
          123,
          110,
          114,
          148,
          112,
          97,
          133,
          110,
          172,
          170,
          117,
          124,
          109,
          154,
          115,
          149,
          119,
          116,
          81,
          174,
          126,
          173,
          126,
          155,
          117,
          115,
          103,
          96,
          218,
          220,
          184,
          176,
          167,
          180,
          153,
          203,
          235,
          159,
          142,
          108,
          116,
          118,
          123,
          165,
          153,
          92,
          155,
          139,
          162,
          163,
          133,
          150,
          112,
          108,
          100,
          131,
          155,
          110,
          89,
          82,
          48,
          116,
          108,
          81,
          63,
          70,
          70,
          29,
          57,
          48,
          89,
          67,
          86,
          37,
          32,
          43,
          34,
          59,
          36,
          39,
          34,
          19,
          36,
          34,
          21,
          51,
          29,
          18,
          17,
          36,
          32,
          32,
          24,
          21,
          16,
          18,
          13,
          32,
          20,
          10,
          16,
          12,
          11,
          18,
          15,
          21,
          21,
          29,
          37,
          79,
          88,
          227,
          384,
          641,
          796,
          479,
          408,
          321,
          514,
          380,
          302,
          348,
          215,
          161,
          137,
          147,
          140,
          116,
          107,
          80,
          54,
          91,
          83,
          100,
          55,
          40,
          27,
          44,
          36,
          40,
          61,
          53,
          40,
          61,
          39,
          59,
          36,
          45,
          81,
          43,
          56,
          47,
          48,
          49,
          41,
          61,
          49,
          45,
          46,
          55,
          90,
          44,
          58,
          54,
          61,
          59,
          57,
          72,
          79,
          40,
          74,
          68,
          54,
          93,
          65,
          72,
          63,
          71,
          62,
          47,
          75,
          69,
          61,
          68,
          56,
          26,
          54,
          38,
          65,
          65,
          69,
          34,
          41,
          37,
          51,
          31,
          40,
          25,
          32,
          20,
          37,
          37,
          39,
          56,
          42,
          24,
          48,
          43,
          45,
          55,
          78,
          72,
          54,
          58,
          41,
          75,
          70,
          65,
          105,
          92,
          65,
          82,
          139
         ],
         "yaxis": "y"
        }
       ],
       "layout": {
        "legend": {
         "tracegroupgap": 0
        },
        "margin": {
         "t": 60
        },
        "template": {
         "data": {
          "bar": [
           {
            "error_x": {
             "color": "#2a3f5f"
            },
            "error_y": {
             "color": "#2a3f5f"
            },
            "marker": {
             "line": {
              "color": "#E5ECF6",
              "width": 0.5
             },
             "pattern": {
              "fillmode": "overlay",
              "size": 10,
              "solidity": 0.2
             }
            },
            "type": "bar"
           }
          ],
          "barpolar": [
           {
            "marker": {
             "line": {
              "color": "#E5ECF6",
              "width": 0.5
             },
             "pattern": {
              "fillmode": "overlay",
              "size": 10,
              "solidity": 0.2
             }
            },
            "type": "barpolar"
           }
          ],
          "carpet": [
           {
            "aaxis": {
             "endlinecolor": "#2a3f5f",
             "gridcolor": "white",
             "linecolor": "white",
             "minorgridcolor": "white",
             "startlinecolor": "#2a3f5f"
            },
            "baxis": {
             "endlinecolor": "#2a3f5f",
             "gridcolor": "white",
             "linecolor": "white",
             "minorgridcolor": "white",
             "startlinecolor": "#2a3f5f"
            },
            "type": "carpet"
           }
          ],
          "choropleth": [
           {
            "colorbar": {
             "outlinewidth": 0,
             "ticks": ""
            },
            "type": "choropleth"
           }
          ],
          "contour": [
           {
            "colorbar": {
             "outlinewidth": 0,
             "ticks": ""
            },
            "colorscale": [
             [
              0,
              "#0d0887"
             ],
             [
              0.1111111111111111,
              "#46039f"
             ],
             [
              0.2222222222222222,
              "#7201a8"
             ],
             [
              0.3333333333333333,
              "#9c179e"
             ],
             [
              0.4444444444444444,
              "#bd3786"
             ],
             [
              0.5555555555555556,
              "#d8576b"
             ],
             [
              0.6666666666666666,
              "#ed7953"
             ],
             [
              0.7777777777777778,
              "#fb9f3a"
             ],
             [
              0.8888888888888888,
              "#fdca26"
             ],
             [
              1,
              "#f0f921"
             ]
            ],
            "type": "contour"
           }
          ],
          "contourcarpet": [
           {
            "colorbar": {
             "outlinewidth": 0,
             "ticks": ""
            },
            "type": "contourcarpet"
           }
          ],
          "heatmap": [
           {
            "colorbar": {
             "outlinewidth": 0,
             "ticks": ""
            },
            "colorscale": [
             [
              0,
              "#0d0887"
             ],
             [
              0.1111111111111111,
              "#46039f"
             ],
             [
              0.2222222222222222,
              "#7201a8"
             ],
             [
              0.3333333333333333,
              "#9c179e"
             ],
             [
              0.4444444444444444,
              "#bd3786"
             ],
             [
              0.5555555555555556,
              "#d8576b"
             ],
             [
              0.6666666666666666,
              "#ed7953"
             ],
             [
              0.7777777777777778,
              "#fb9f3a"
             ],
             [
              0.8888888888888888,
              "#fdca26"
             ],
             [
              1,
              "#f0f921"
             ]
            ],
            "type": "heatmap"
           }
          ],
          "heatmapgl": [
           {
            "colorbar": {
             "outlinewidth": 0,
             "ticks": ""
            },
            "colorscale": [
             [
              0,
              "#0d0887"
             ],
             [
              0.1111111111111111,
              "#46039f"
             ],
             [
              0.2222222222222222,
              "#7201a8"
             ],
             [
              0.3333333333333333,
              "#9c179e"
             ],
             [
              0.4444444444444444,
              "#bd3786"
             ],
             [
              0.5555555555555556,
              "#d8576b"
             ],
             [
              0.6666666666666666,
              "#ed7953"
             ],
             [
              0.7777777777777778,
              "#fb9f3a"
             ],
             [
              0.8888888888888888,
              "#fdca26"
             ],
             [
              1,
              "#f0f921"
             ]
            ],
            "type": "heatmapgl"
           }
          ],
          "histogram": [
           {
            "marker": {
             "pattern": {
              "fillmode": "overlay",
              "size": 10,
              "solidity": 0.2
             }
            },
            "type": "histogram"
           }
          ],
          "histogram2d": [
           {
            "colorbar": {
             "outlinewidth": 0,
             "ticks": ""
            },
            "colorscale": [
             [
              0,
              "#0d0887"
             ],
             [
              0.1111111111111111,
              "#46039f"
             ],
             [
              0.2222222222222222,
              "#7201a8"
             ],
             [
              0.3333333333333333,
              "#9c179e"
             ],
             [
              0.4444444444444444,
              "#bd3786"
             ],
             [
              0.5555555555555556,
              "#d8576b"
             ],
             [
              0.6666666666666666,
              "#ed7953"
             ],
             [
              0.7777777777777778,
              "#fb9f3a"
             ],
             [
              0.8888888888888888,
              "#fdca26"
             ],
             [
              1,
              "#f0f921"
             ]
            ],
            "type": "histogram2d"
           }
          ],
          "histogram2dcontour": [
           {
            "colorbar": {
             "outlinewidth": 0,
             "ticks": ""
            },
            "colorscale": [
             [
              0,
              "#0d0887"
             ],
             [
              0.1111111111111111,
              "#46039f"
             ],
             [
              0.2222222222222222,
              "#7201a8"
             ],
             [
              0.3333333333333333,
              "#9c179e"
             ],
             [
              0.4444444444444444,
              "#bd3786"
             ],
             [
              0.5555555555555556,
              "#d8576b"
             ],
             [
              0.6666666666666666,
              "#ed7953"
             ],
             [
              0.7777777777777778,
              "#fb9f3a"
             ],
             [
              0.8888888888888888,
              "#fdca26"
             ],
             [
              1,
              "#f0f921"
             ]
            ],
            "type": "histogram2dcontour"
           }
          ],
          "mesh3d": [
           {
            "colorbar": {
             "outlinewidth": 0,
             "ticks": ""
            },
            "type": "mesh3d"
           }
          ],
          "parcoords": [
           {
            "line": {
             "colorbar": {
              "outlinewidth": 0,
              "ticks": ""
             }
            },
            "type": "parcoords"
           }
          ],
          "pie": [
           {
            "automargin": true,
            "type": "pie"
           }
          ],
          "scatter": [
           {
            "marker": {
             "colorbar": {
              "outlinewidth": 0,
              "ticks": ""
             }
            },
            "type": "scatter"
           }
          ],
          "scatter3d": [
           {
            "line": {
             "colorbar": {
              "outlinewidth": 0,
              "ticks": ""
             }
            },
            "marker": {
             "colorbar": {
              "outlinewidth": 0,
              "ticks": ""
             }
            },
            "type": "scatter3d"
           }
          ],
          "scattercarpet": [
           {
            "marker": {
             "colorbar": {
              "outlinewidth": 0,
              "ticks": ""
             }
            },
            "type": "scattercarpet"
           }
          ],
          "scattergeo": [
           {
            "marker": {
             "colorbar": {
              "outlinewidth": 0,
              "ticks": ""
             }
            },
            "type": "scattergeo"
           }
          ],
          "scattergl": [
           {
            "marker": {
             "colorbar": {
              "outlinewidth": 0,
              "ticks": ""
             }
            },
            "type": "scattergl"
           }
          ],
          "scattermapbox": [
           {
            "marker": {
             "colorbar": {
              "outlinewidth": 0,
              "ticks": ""
             }
            },
            "type": "scattermapbox"
           }
          ],
          "scatterpolar": [
           {
            "marker": {
             "colorbar": {
              "outlinewidth": 0,
              "ticks": ""
             }
            },
            "type": "scatterpolar"
           }
          ],
          "scatterpolargl": [
           {
            "marker": {
             "colorbar": {
              "outlinewidth": 0,
              "ticks": ""
             }
            },
            "type": "scatterpolargl"
           }
          ],
          "scatterternary": [
           {
            "marker": {
             "colorbar": {
              "outlinewidth": 0,
              "ticks": ""
             }
            },
            "type": "scatterternary"
           }
          ],
          "surface": [
           {
            "colorbar": {
             "outlinewidth": 0,
             "ticks": ""
            },
            "colorscale": [
             [
              0,
              "#0d0887"
             ],
             [
              0.1111111111111111,
              "#46039f"
             ],
             [
              0.2222222222222222,
              "#7201a8"
             ],
             [
              0.3333333333333333,
              "#9c179e"
             ],
             [
              0.4444444444444444,
              "#bd3786"
             ],
             [
              0.5555555555555556,
              "#d8576b"
             ],
             [
              0.6666666666666666,
              "#ed7953"
             ],
             [
              0.7777777777777778,
              "#fb9f3a"
             ],
             [
              0.8888888888888888,
              "#fdca26"
             ],
             [
              1,
              "#f0f921"
             ]
            ],
            "type": "surface"
           }
          ],
          "table": [
           {
            "cells": {
             "fill": {
              "color": "#EBF0F8"
             },
             "line": {
              "color": "white"
             }
            },
            "header": {
             "fill": {
              "color": "#C8D4E3"
             },
             "line": {
              "color": "white"
             }
            },
            "type": "table"
           }
          ]
         },
         "layout": {
          "annotationdefaults": {
           "arrowcolor": "#2a3f5f",
           "arrowhead": 0,
           "arrowwidth": 1
          },
          "autotypenumbers": "strict",
          "coloraxis": {
           "colorbar": {
            "outlinewidth": 0,
            "ticks": ""
           }
          },
          "colorscale": {
           "diverging": [
            [
             0,
             "#8e0152"
            ],
            [
             0.1,
             "#c51b7d"
            ],
            [
             0.2,
             "#de77ae"
            ],
            [
             0.3,
             "#f1b6da"
            ],
            [
             0.4,
             "#fde0ef"
            ],
            [
             0.5,
             "#f7f7f7"
            ],
            [
             0.6,
             "#e6f5d0"
            ],
            [
             0.7,
             "#b8e186"
            ],
            [
             0.8,
             "#7fbc41"
            ],
            [
             0.9,
             "#4d9221"
            ],
            [
             1,
             "#276419"
            ]
           ],
           "sequential": [
            [
             0,
             "#0d0887"
            ],
            [
             0.1111111111111111,
             "#46039f"
            ],
            [
             0.2222222222222222,
             "#7201a8"
            ],
            [
             0.3333333333333333,
             "#9c179e"
            ],
            [
             0.4444444444444444,
             "#bd3786"
            ],
            [
             0.5555555555555556,
             "#d8576b"
            ],
            [
             0.6666666666666666,
             "#ed7953"
            ],
            [
             0.7777777777777778,
             "#fb9f3a"
            ],
            [
             0.8888888888888888,
             "#fdca26"
            ],
            [
             1,
             "#f0f921"
            ]
           ],
           "sequentialminus": [
            [
             0,
             "#0d0887"
            ],
            [
             0.1111111111111111,
             "#46039f"
            ],
            [
             0.2222222222222222,
             "#7201a8"
            ],
            [
             0.3333333333333333,
             "#9c179e"
            ],
            [
             0.4444444444444444,
             "#bd3786"
            ],
            [
             0.5555555555555556,
             "#d8576b"
            ],
            [
             0.6666666666666666,
             "#ed7953"
            ],
            [
             0.7777777777777778,
             "#fb9f3a"
            ],
            [
             0.8888888888888888,
             "#fdca26"
            ],
            [
             1,
             "#f0f921"
            ]
           ]
          },
          "colorway": [
           "#636efa",
           "#EF553B",
           "#00cc96",
           "#ab63fa",
           "#FFA15A",
           "#19d3f3",
           "#FF6692",
           "#B6E880",
           "#FF97FF",
           "#FECB52"
          ],
          "font": {
           "color": "#2a3f5f"
          },
          "geo": {
           "bgcolor": "white",
           "lakecolor": "white",
           "landcolor": "#E5ECF6",
           "showlakes": true,
           "showland": true,
           "subunitcolor": "white"
          },
          "hoverlabel": {
           "align": "left"
          },
          "hovermode": "closest",
          "mapbox": {
           "style": "light"
          },
          "paper_bgcolor": "white",
          "plot_bgcolor": "#E5ECF6",
          "polar": {
           "angularaxis": {
            "gridcolor": "white",
            "linecolor": "white",
            "ticks": ""
           },
           "bgcolor": "#E5ECF6",
           "radialaxis": {
            "gridcolor": "white",
            "linecolor": "white",
            "ticks": ""
           }
          },
          "scene": {
           "xaxis": {
            "backgroundcolor": "#E5ECF6",
            "gridcolor": "white",
            "gridwidth": 2,
            "linecolor": "white",
            "showbackground": true,
            "ticks": "",
            "zerolinecolor": "white"
           },
           "yaxis": {
            "backgroundcolor": "#E5ECF6",
            "gridcolor": "white",
            "gridwidth": 2,
            "linecolor": "white",
            "showbackground": true,
            "ticks": "",
            "zerolinecolor": "white"
           },
           "zaxis": {
            "backgroundcolor": "#E5ECF6",
            "gridcolor": "white",
            "gridwidth": 2,
            "linecolor": "white",
            "showbackground": true,
            "ticks": "",
            "zerolinecolor": "white"
           }
          },
          "shapedefaults": {
           "line": {
            "color": "#2a3f5f"
           }
          },
          "ternary": {
           "aaxis": {
            "gridcolor": "white",
            "linecolor": "white",
            "ticks": ""
           },
           "baxis": {
            "gridcolor": "white",
            "linecolor": "white",
            "ticks": ""
           },
           "bgcolor": "#E5ECF6",
           "caxis": {
            "gridcolor": "white",
            "linecolor": "white",
            "ticks": ""
           }
          },
          "title": {
           "x": 0.05
          },
          "xaxis": {
           "automargin": true,
           "gridcolor": "white",
           "linecolor": "white",
           "ticks": "",
           "title": {
            "standoff": 15
           },
           "zerolinecolor": "white",
           "zerolinewidth": 2
          },
          "yaxis": {
           "automargin": true,
           "gridcolor": "white",
           "linecolor": "white",
           "ticks": "",
           "title": {
            "standoff": 15
           },
           "zerolinecolor": "white",
           "zerolinewidth": 2
          }
         }
        },
        "xaxis": {
         "anchor": "y",
         "domain": [
          0,
          1
         ],
         "title": {
          "text": "Date_of_report"
         }
        },
        "yaxis": {
         "anchor": "x",
         "domain": [
          0,
          1
         ],
         "title": {
          "text": "Daily_reported"
         }
        }
       }
      }
     },
     "metadata": {},
     "output_type": "display_data"
    }
   ],
   "source": [
    "px.line(\n",
    "    covid_data_cleaned[covid_data_cleaned[\"Municipality_name\"] == \"Utrecht\"], \n",
    "    x=\"Date_of_report\",\n",
    "    y=\"Daily_reported\",\n",
    ")"
   ]
  },
  {
   "cell_type": "markdown",
   "metadata": {},
   "source": [
    "# Write to CSV"
   ]
  },
  {
   "cell_type": "code",
   "execution_count": 28,
   "metadata": {},
   "outputs": [],
   "source": [
    "covid_data_cleaned.to_csv(\"./public/data/COVID-19-NL-Municipality-Wise.csv\", index=False)"
   ]
  },
  {
   "cell_type": "code",
   "execution_count": null,
   "metadata": {},
   "outputs": [],
   "source": []
  },
  {
   "cell_type": "code",
   "execution_count": null,
   "metadata": {},
   "outputs": [],
   "source": []
  },
  {
   "cell_type": "code",
   "execution_count": null,
   "metadata": {},
   "outputs": [],
   "source": []
  },
  {
   "cell_type": "code",
   "execution_count": null,
   "metadata": {},
   "outputs": [],
   "source": []
  },
  {
   "cell_type": "markdown",
   "metadata": {},
   "source": [
    "# Check missing municipalities"
   ]
  },
  {
   "cell_type": "code",
   "execution_count": 30,
   "metadata": {},
   "outputs": [
    {
     "data": {
      "text/html": [
       "<div>\n",
       "<style scoped>\n",
       "    .dataframe tbody tr th:only-of-type {\n",
       "        vertical-align: middle;\n",
       "    }\n",
       "\n",
       "    .dataframe tbody tr th {\n",
       "        vertical-align: top;\n",
       "    }\n",
       "\n",
       "    .dataframe thead th {\n",
       "        text-align: right;\n",
       "    }\n",
       "</style>\n",
       "<table border=\"1\" class=\"dataframe\">\n",
       "  <thead>\n",
       "    <tr style=\"text-align: right;\">\n",
       "      <th></th>\n",
       "      <th>ID</th>\n",
       "      <th>Sex</th>\n",
       "      <th>Regions</th>\n",
       "      <th>Periods</th>\n",
       "      <th>PopulationOn1January_1</th>\n",
       "      <th>PopulationOn31December_20</th>\n",
       "    </tr>\n",
       "  </thead>\n",
       "  <tbody>\n",
       "    <tr>\n",
       "      <th>0</th>\n",
       "      <td>6239</td>\n",
       "      <td>T001038</td>\n",
       "      <td>GM0003</td>\n",
       "      <td>2019JJ00</td>\n",
       "      <td>11721.0</td>\n",
       "      <td>11642.0</td>\n",
       "    </tr>\n",
       "    <tr>\n",
       "      <th>1</th>\n",
       "      <td>7858</td>\n",
       "      <td>T001038</td>\n",
       "      <td>GM0005</td>\n",
       "      <td>2018JJ00</td>\n",
       "      <td>10475.0</td>\n",
       "      <td>10493.0</td>\n",
       "    </tr>\n",
       "    <tr>\n",
       "      <th>2</th>\n",
       "      <td>8637</td>\n",
       "      <td>T001038</td>\n",
       "      <td>GM0007</td>\n",
       "      <td>2017JJ00</td>\n",
       "      <td>8919.0</td>\n",
       "      <td>8816.0</td>\n",
       "    </tr>\n",
       "    <tr>\n",
       "      <th>3</th>\n",
       "      <td>11758</td>\n",
       "      <td>T001038</td>\n",
       "      <td>GM0009</td>\n",
       "      <td>2018JJ00</td>\n",
       "      <td>7292.0</td>\n",
       "      <td>7289.0</td>\n",
       "    </tr>\n",
       "    <tr>\n",
       "      <th>4</th>\n",
       "      <td>15239</td>\n",
       "      <td>T001038</td>\n",
       "      <td>GM0010</td>\n",
       "      <td>2019JJ00</td>\n",
       "      <td>24716.0</td>\n",
       "      <td>24678.0</td>\n",
       "    </tr>\n",
       "    <tr>\n",
       "      <th>...</th>\n",
       "      <td>...</td>\n",
       "      <td>...</td>\n",
       "      <td>...</td>\n",
       "      <td>...</td>\n",
       "      <td>...</td>\n",
       "      <td>...</td>\n",
       "    </tr>\n",
       "    <tr>\n",
       "      <th>404</th>\n",
       "      <td>29879</td>\n",
       "      <td>T001038</td>\n",
       "      <td>GM1966</td>\n",
       "      <td>2019JJ00</td>\n",
       "      <td>47888.0</td>\n",
       "      <td>47801.0</td>\n",
       "    </tr>\n",
       "    <tr>\n",
       "      <th>405</th>\n",
       "      <td>67979</td>\n",
       "      <td>T001038</td>\n",
       "      <td>GM1969</td>\n",
       "      <td>2019JJ00</td>\n",
       "      <td>63031.0</td>\n",
       "      <td>63329.0</td>\n",
       "    </tr>\n",
       "    <tr>\n",
       "      <th>406</th>\n",
       "      <td>44819</td>\n",
       "      <td>T001038</td>\n",
       "      <td>GM1970</td>\n",
       "      <td>2019JJ00</td>\n",
       "      <td>45181.0</td>\n",
       "      <td>45228.0</td>\n",
       "    </tr>\n",
       "    <tr>\n",
       "      <th>407</th>\n",
       "      <td>41639</td>\n",
       "      <td>T001038</td>\n",
       "      <td>GM1978</td>\n",
       "      <td>2019JJ00</td>\n",
       "      <td>43858.0</td>\n",
       "      <td>43909.0</td>\n",
       "    </tr>\n",
       "    <tr>\n",
       "      <th>408</th>\n",
       "      <td>40137</td>\n",
       "      <td>T001038</td>\n",
       "      <td>GM1987</td>\n",
       "      <td>2017JJ00</td>\n",
       "      <td>12162.0</td>\n",
       "      <td>12013.0</td>\n",
       "    </tr>\n",
       "  </tbody>\n",
       "</table>\n",
       "<p>409 rows × 6 columns</p>\n",
       "</div>"
      ],
      "text/plain": [
       "        ID      Sex Regions   Periods  PopulationOn1January_1  \\\n",
       "0     6239  T001038  GM0003  2019JJ00                 11721.0   \n",
       "1     7858  T001038  GM0005  2018JJ00                 10475.0   \n",
       "2     8637  T001038  GM0007  2017JJ00                  8919.0   \n",
       "3    11758  T001038  GM0009  2018JJ00                  7292.0   \n",
       "4    15239  T001038  GM0010  2019JJ00                 24716.0   \n",
       "..     ...      ...     ...       ...                     ...   \n",
       "404  29879  T001038  GM1966  2019JJ00                 47888.0   \n",
       "405  67979  T001038  GM1969  2019JJ00                 63031.0   \n",
       "406  44819  T001038  GM1970  2019JJ00                 45181.0   \n",
       "407  41639  T001038  GM1978  2019JJ00                 43858.0   \n",
       "408  40137  T001038  GM1987  2017JJ00                 12162.0   \n",
       "\n",
       "     PopulationOn31December_20  \n",
       "0                      11642.0  \n",
       "1                      10493.0  \n",
       "2                       8816.0  \n",
       "3                       7289.0  \n",
       "4                      24678.0  \n",
       "..                         ...  \n",
       "404                    47801.0  \n",
       "405                    63329.0  \n",
       "406                    45228.0  \n",
       "407                    43909.0  \n",
       "408                    12013.0  \n",
       "\n",
       "[409 rows x 6 columns]"
      ]
     },
     "execution_count": 30,
     "metadata": {},
     "output_type": "execute_result"
    }
   ],
   "source": [
    "population_data = pd.read_csv(\"./public/data/NL_Population_Latest.csv\")\n",
    "population_data"
   ]
  },
  {
   "cell_type": "code",
   "execution_count": 31,
   "metadata": {},
   "outputs": [],
   "source": [
    "all_municipalities_covid_data = set(covid_data_cleaned[\"Municipality_code\"])\n",
    "all_municipalities_population_data = set(population_data[\"Regions\"])"
   ]
  },
  {
   "cell_type": "code",
   "execution_count": 32,
   "metadata": {},
   "outputs": [
    {
     "data": {
      "text/plain": [
       "{'GM1979'}"
      ]
     },
     "execution_count": 32,
     "metadata": {},
     "output_type": "execute_result"
    }
   ],
   "source": [
    "all_municipalities_covid_data - all_municipalities_population_data"
   ]
  },
  {
   "cell_type": "markdown",
   "metadata": {},
   "source": [
    "## Municipalities not present in population data"
   ]
  },
  {
   "cell_type": "code",
   "execution_count": 33,
   "metadata": {},
   "outputs": [
    {
     "data": {
      "text/plain": [
       "[('Eemsdelta', 'Groningen')]"
      ]
     },
     "execution_count": 33,
     "metadata": {},
     "output_type": "execute_result"
    }
   ],
   "source": [
    "missing_df = covid_data_cleaned[covid_data_cleaned[\"Municipality_code\"].isin(\n",
    "    list(all_municipalities_covid_data - all_municipalities_population_data))\n",
    "][[\"Municipality_name\", \"Province\"]]\n",
    "list(missing_df.groupby([\"Municipality_name\", \"Province\"]).groups.keys())"
   ]
  },
  {
   "cell_type": "markdown",
   "metadata": {},
   "source": [
    "## Municipalities not present in COVID data"
   ]
  },
  {
   "cell_type": "code",
   "execution_count": 34,
   "metadata": {},
   "outputs": [
    {
     "data": {
      "text/plain": [
       "[]"
      ]
     },
     "execution_count": 34,
     "metadata": {},
     "output_type": "execute_result"
    }
   ],
   "source": [
    "missing_df = covid_data_cleaned[covid_data_cleaned[\"Municipality_code\"].isin(\n",
    "    list(all_municipalities_population_data - all_municipalities_covid_data))\n",
    "][[\"Municipality_name\", \"Province\"]]\n",
    "list(missing_df.groupby([\"Municipality_name\", \"Province\"]).groups.keys())"
   ]
  },
  {
   "cell_type": "code",
   "execution_count": null,
   "metadata": {},
   "outputs": [],
   "source": []
  },
  {
   "cell_type": "code",
   "execution_count": null,
   "metadata": {},
   "outputs": [],
   "source": []
  },
  {
   "cell_type": "code",
   "execution_count": null,
   "metadata": {},
   "outputs": [],
   "source": []
  }
 ],
 "metadata": {
  "interpreter": {
   "hash": "ea4ed86dc213856af4d69171118c736873a34f04576758a62cc0cd1485a5ed95"
  },
  "kernelspec": {
   "display_name": "Python 3.8.11 64-bit ('ml-tools-3.8': conda)",
   "name": "python3"
  },
  "language_info": {
   "codemirror_mode": {
    "name": "ipython",
    "version": 3
   },
   "file_extension": ".py",
   "mimetype": "text/x-python",
   "name": "python",
   "nbconvert_exporter": "python",
   "pygments_lexer": "ipython3",
   "version": "3.8.11"
  }
 },
 "nbformat": 4,
 "nbformat_minor": 5
}
